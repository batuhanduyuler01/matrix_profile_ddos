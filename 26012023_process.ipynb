{
 "cells": [
  {
   "cell_type": "code",
   "execution_count": 1,
   "metadata": {},
   "outputs": [],
   "source": [
    "import matplotlib.pyplot as plt\n",
    "import numpy as np\n",
    "import pandas as pd\n",
    "import matrixprofile as mp\n",
    "import random\n",
    "import time\n",
    "import os\n",
    "from matplotlib.patches import Rectangle"
   ]
  },
  {
   "cell_type": "code",
   "execution_count": 4,
   "metadata": {},
   "outputs": [
    {
     "name": "stdout",
     "output_type": "stream",
     "text": [
      "Dataset is loaded in 0.23830050000000114 seconds\n"
     ]
    }
   ],
   "source": [
    "def upload_dataset_with_time(path:str):\n",
    "    startingT = time.perf_counter()\n",
    "    veriseti = pd.read_csv(path, low_memory=False)\n",
    "    endingT = time.perf_counter()\n",
    "    print(f\"Dataset is loaded in {endingT - startingT} seconds\")\n",
    "    return veriseti\n",
    "\n",
    "data_path = 'ddos_dataset_on_seconds.csv'\n",
    "syn_benign_df = upload_dataset_with_time(data_path)"
   ]
  },
  {
   "cell_type": "code",
   "execution_count": 7,
   "metadata": {},
   "outputs": [
    {
     "name": "stdout",
     "output_type": "stream",
     "text": [
      "Dataset is loaded in 0.023355500000000973 seconds\n"
     ]
    }
   ],
   "source": [
    "ntp_path = 'ntp_by_seconds_data.csv'\n",
    "ntp_df = upload_dataset_with_time(ntp_path)\n",
    "\n",
    "def label_ddos(label:int):\n",
    "    if label > 20:\n",
    "        return 1\n",
    "    else:\n",
    "        return 0\n",
    "ntp_df[\"Label\"] = ntp_df[\"Label\"].apply(lambda x: label_ddos(x))\n",
    "ddos_ntp = ntp_df[ntp_df[\"Label\"] == 1].sample(524).reset_index(drop=True)\n",
    "ddos_ntp = ddos_ntp[[*(syn_benign_df.columns)]]"
   ]
  },
  {
   "cell_type": "code",
   "execution_count": 8,
   "metadata": {},
   "outputs": [],
   "source": [
    "syn_slice_1 = syn_benign_df.iloc[:12000, :].copy()\n",
    "syn_slice_2 = syn_benign_df.iloc[12000:, :].copy()\n",
    "merged_df = pd.concat([syn_slice_1, ddos_ntp ,syn_slice_2, ddos_ntp, syn_slice_2], axis = 0).reset_index(drop=True)\n",
    "df = merged_df.copy()"
   ]
  },
  {
   "cell_type": "code",
   "execution_count": 127,
   "metadata": {},
   "outputs": [],
   "source": [
    "import pandas as pd\n",
    "import numpy as np\n",
    "import stumpy\n",
    "import random\n",
    "\n",
    "class MatrixProfileManager:\n",
    "    if 'global_df' not in dir():\n",
    "        global_df = None\n",
    "\n",
    "    THRESHOLD_BASE_ACTIVE = False\n",
    "    threshold = 5.0\n",
    "\n",
    "    def __init__(self, df:pd.DataFrame, window_size:int = 60, discord_number = 476, method='mpx', measure='acc'):\n",
    "        self.measurement = measure\n",
    "        self.window_size = window_size\n",
    "        self.discord_number = discord_number\n",
    "        self.discord_dict = {}\n",
    "        self.discords = []\n",
    "        self.df = df\n",
    "        self.mp_method = method\n",
    "        self.curr_mp_dict = {}\n",
    "\n",
    "    def calculate_mp_multivariate_stumpy(self):\n",
    "        curr_mps, curr_indices = stumpy.mstump(self.df, self.window_size)\n",
    "        self.mps = curr_mps\n",
    "\n",
    "    def calculate_mp_seperately_mpx(self):\n",
    "        import matrixprofile as mp\n",
    "        mp_list = []\n",
    "        \n",
    "        for ft in self.df.columns:\n",
    "            inputSignal = self.df[ft].to_list()\n",
    "            matrix_profile = mp.compute(inputSignal, windows=self.window_size, threshold=0.95, n_jobs=4)\n",
    "            mp_list.append(matrix_profile['mp'])\n",
    "\n",
    "        self.mps = np.array(mp_list)\n",
    "    \n",
    "    def calculate_discords(self):\n",
    "        from collections import Counter\n",
    "        curr_mps_dict = dict()\n",
    "        curr_mps_dict = {f_idx: np.argsort(self.mps[idx])[::-1][:1000] for idx, f_idx in enumerate(self.df.columns)}\n",
    "        self.curr_mp_dict = {f_idx: np.sort(self.mps[idx])[::-1][:self.discord_number] for idx, f_idx in enumerate(self.df.columns)}\n",
    "\n",
    "        for idx, indices in curr_mps_dict.items():\n",
    "            # print(f'now processing current idx: {idx}') \n",
    "            indice_list = []\n",
    "            for indice in indices:\n",
    "                #get mp point window\n",
    "                indice_list.extend(list(range(indice, indice + self.window_size - 1)))\n",
    "            #sort the indices by count\n",
    "            if (MatrixProfileManager.THRESHOLD_BASE_ACTIVE == True):\n",
    "                sorted_discord_indexes = indice_list.copy()\n",
    "            else:\n",
    "                sorted_discords = sorted(Counter(indice_list).items(), key=lambda t:t[1], reverse=True)\n",
    "                sorted_discord_indexes = [elem[0] for elem in sorted_discords[:self.discord_number]]\n",
    "\n",
    "            self.discord_dict[idx] = sorted_discord_indexes\n",
    "\n",
    "    def majority_vote_discords(self):\n",
    "        from collections import Counter\n",
    "        overall_list = []\n",
    "        for ft, ids_list in self.discord_dict.items():\n",
    "            overall_list.extend(ids_list)\n",
    "\n",
    "        if (MatrixProfileManager.THRESHOLD_BASE_ACTIVE):\n",
    "            self.discords = list(set(overall_list))\n",
    "        else:\n",
    "            sorted_overall = (sorted(Counter(overall_list).items(), key=lambda t:t[1], reverse=True))\n",
    "            self.discords = [elem[0] for elem in sorted_overall[:self.discord_number]]\n",
    "\n",
    "\n",
    "    def obtain_y_vals(self):\n",
    "        df_idxs = list(range(0, len(MatrixProfileManager.global_df)))\n",
    "        for idx in self.discords:\n",
    "            try:\n",
    "                df_idxs.remove(idx)\n",
    "            except:\n",
    "                print(f\"idx : {idx} not found in global df indexes.\")\n",
    "  \n",
    "        \n",
    "        self.pred_df = pd.DataFrame()\n",
    "        self.pred_df['y_true'] = MatrixProfileManager.global_df[\"Label\"].copy()\n",
    "        self.pred_df[\"y_pred\"] = MatrixProfileManager.global_df[\"Label\"].copy()\n",
    "        \n",
    "        self.pred_df.iloc[df_idxs, 1] = 0\n",
    "        self.pred_df.iloc[self.discords, 1] = 1\n",
    "\n",
    "    def calculate_classification_report(self):\n",
    "        from sklearn.metrics import classification_report\n",
    "        if 'y_true' not in self.pred_df.columns:\n",
    "            raise ValueError('true vals not included in df')\n",
    "\n",
    "        if 'y_pred' not in self.pred_df.columns:\n",
    "            raise ValueError('pred vals not included in df')\n",
    "\n",
    "        self.creport = classification_report(self.pred_df[\"y_true\"].to_list(),\n",
    "                                             self.pred_df[\"y_pred\"].to_list(), output_dict=True)[\"1\"]\n",
    "\n",
    "    def get_f1_score(self):\n",
    "        if self.creport is None:\n",
    "            raise ValueError('Classification Report is not ready!')\n",
    "            \n",
    "        return self.creport['f1-score']\n",
    "\n",
    "    def get_mp_score(self):\n",
    "        #maximize this\n",
    "        return sum([sum(mp_score) for mp_score in self.curr_mp_dict.values()]) / len(self.curr_mp_dict.keys())\n",
    "\n",
    "    def calculate_cost(self):\n",
    "        if self.mp_method.lower() == 'mpx':\n",
    "            self.calculate_mp_seperately_mpx()\n",
    "        else:\n",
    "            self.calculate_mp_multivariate_stumpy()\n",
    "        \n",
    "        self.calculate_discords()\n",
    "        self.majority_vote_discords()\n",
    "        self.obtain_y_vals()\n",
    "        self.calculate_classification_report()\n",
    "\n",
    "        f1_score = self.get_f1_score()\n",
    "        mp_score = self.get_mp_score()\n",
    "        return mp_score, f1_score\n",
    "\n",
    "    def calculate_thresholded_discords(self):\n",
    "        from collections import Counter\n",
    "        curr_mps_dict = dict()\n",
    "        threshold = MatrixProfileManager.threshold\n",
    "        curr_mps_dict = {f_idx: np.where(self.mps[idx] > threshold)[0].tolist() for idx, f_idx in enumerate(self.df.columns)}\n",
    "        self.curr_mp_dict = {f_idx: np.sort(self.mps[idx])[::-1][:10] for idx, f_idx in enumerate(self.df.columns)}\n",
    "\n",
    "        for idx, indices in curr_mps_dict.items():\n",
    "            # print(f'now processing current idx: {idx}') \n",
    "            indice_list = []\n",
    "            for indice in indices:\n",
    "                #get mp point window\n",
    "                indice_list.extend(list(range(indice, indice + self.window_size - 1)))\n",
    "\n",
    "            if (MatrixProfileManager.THRESHOLD_BASE_ACTIVE):\n",
    "                self.discord_dict[idx] = list(set(indice_list))\n",
    "            else:\n",
    "                AssertionError(\"wrong func!\")\n",
    "\n",
    "    def calculate_threshold_based_cost(self):    \n",
    "        if self.mp_method.lower() == 'mpx':\n",
    "            self.calculate_mp_seperately_mpx()\n",
    "        else:\n",
    "            self.calculate_mp_multivariate_stumpy()\n",
    "\n",
    "        self.calculate_thresholded_discords()\n",
    "        self.majority_vote_discords()\n",
    "        self.obtain_y_vals()\n",
    "        self.calculate_classification_report()\n",
    "\n",
    "        f1_score = self.get_f1_score()\n",
    "        mp_score = self.get_mp_score()\n",
    "        return mp_score, f1_score\n",
    "\n",
    "\n",
    "class GeneticAlgo:\n",
    "    verbosity_level = 0\n",
    "    thresholded_mp = False\n",
    "    def __init__(self, df:pd.DataFrame, max_features:int, population_bag_size:int = 3, fitness = 'MP'):\n",
    "        print('Genetic Algorithm Process is ready to start')\n",
    "        self.df = df.copy()\n",
    "        self.y = df[[\"Label\"]]\n",
    "        self.X = df.drop([\"Label\"], axis = 1)\n",
    "        self.feature_map = {i : feat_name for i, feat_name in enumerate(self.X.columns)}\n",
    "        self.X.columns = list(range(0, len(self.X.columns)))\n",
    "        self.feature_number = max_features\n",
    "        self.pop_bag_size = population_bag_size\n",
    "        self.creport = None\n",
    "        self.eval_result = None\n",
    "        self.fitness_type = fitness\n",
    "        \n",
    "\n",
    "    def initialize_population(self):\n",
    "        self.population_bag = []\n",
    "        for _ in range(self.pop_bag_size):\n",
    "            #0 veya 1 atiyoruz feature pick or not pick, 1 olanlari appendliyoruz.\n",
    "            genes = [random.randrange(0,2) for _ in range(self.feature_number)]\n",
    "            gene_indexes = [idx for idx, f in enumerate(genes) if f == 1]\n",
    "            if (len(gene_indexes) == 0):\n",
    "                gene_indexes.append(random.randint(1,self.feature_number))\n",
    "\n",
    "            self.population_bag.append(self.X.iloc[:, gene_indexes])\n",
    "\n",
    "        return self.population_bag\n",
    "\n",
    "    def create_population(self, pop_bag) -> pd.DataFrame:\n",
    "        self.population_bag.clear()\n",
    "        for elem in pop_bag:\n",
    "            self.population_bag.append(self.X.iloc[:, elem])\n",
    "            \n",
    "        return self.population_bag\n",
    "\n",
    "    def fitness_function(self, individual:pd.DataFrame):\n",
    "        if (GeneticAlgo.thresholded_mp == True):\n",
    "            MatrixProfileManager.THRESHOLD_BASE_ACTIVE = True\n",
    "        else:\n",
    "            MatrixProfileManager.THRESHOLD_BASE_ACTIVE = False\n",
    "\n",
    "        mp_manager = MatrixProfileManager(individual, window_size=60, discord_number=1000, method='mpx', measure='f1')\n",
    "        if (GeneticAlgo.thresholded_mp == False):\n",
    "            cost, f1_score = mp_manager.calculate_cost()\n",
    "        elif (GeneticAlgo.thresholded_mp == True):\n",
    "            cost, f1_score = mp_manager.calculate_threshold_based_cost()\n",
    "            \n",
    "        if (GeneticAlgo.verbosity_level < 2):\n",
    "            print(f'processing solution: {individual.columns.to_list()}')\n",
    "            print(f\"f1-score is: {mp_manager.get_f1_score()}\")\n",
    "        #return f1score instead of cost in order to maximize f1-score:\n",
    "        \n",
    "        # return cost, f1_score\n",
    "        del mp_manager\n",
    "        return cost, f1_score\n",
    "\n",
    "    def eval_fit_population(self, pop_bag):\n",
    "        #This evaluation is based on minimizing the cost!\n",
    "        result = {}\n",
    "        fit_vals_lst = []\n",
    "        f1_score_lst = []\n",
    "        solutions = []\n",
    "        for individual in pop_bag:\n",
    "            if (type(individual) != pd.DataFrame):\n",
    "                assert(True)\n",
    "\n",
    "            cost, f1_sc = self.fitness_function(individual.copy())\n",
    "            fit_vals_lst.append(cost)\n",
    "            f1_score_lst.append(f1_sc)\n",
    "            solutions.append(individual.columns.to_list())\n",
    "            \n",
    "        result[\"fit_vals\"] = fit_vals_lst\n",
    "        result[\"f1-scores\"] = f1_score_lst \n",
    "        if self.fitness_type == \"MP\":\n",
    "            min_wgh = [abs(np.min(list(result['fit_vals'])) - i) for i in list(result['fit_vals'])]\n",
    "        else:\n",
    "            min_wgh = [abs(np.min(list(result['f1-scores'])) - i) for i in list(result['f1-scores'])]\n",
    "        \n",
    "        from scipy.special import logsumexp\n",
    "        result[\"fit_wgh\"]  = [i/logsumexp(min_wgh) for i in min_wgh]\n",
    "        result[\"solution\"] = np.array(solutions, dtype=list).tolist()\n",
    "        \n",
    "        self.eval_result = result.copy()\n",
    "        return result\n",
    "\n",
    "    def find_best(self, eval_result:dict)->dict:\n",
    "        # Best individual so far\n",
    "        best_fit = np.max(eval_result[\"fit_vals\"])\n",
    "        best_fit_index = eval_result[\"fit_vals\"].index(best_fit)\n",
    "        best_solution  = eval_result[\"solution\"][best_fit_index]\n",
    "        f1_sc = eval_result[\"f1-scores\"][best_fit_index]\n",
    "        print(f'best fit: {best_fit}\\nsolution: {best_solution}\\nf1Score: {f1_sc}')\n",
    "        return {'best_fit': best_fit, 'index' : best_fit_index,\n",
    "                 'solution': best_solution, 'f1-score' : f1_sc}\n",
    "\n",
    "    def pick_one(self, pop_bag):\n",
    "        \n",
    "        if self.eval_result is None:\n",
    "            eval_result = self.eval_fit_population(pop_bag)\n",
    "        else:\n",
    "            eval_result = self.eval_result\n",
    "\n",
    "        notPicked=True\n",
    "        cnt = 0\n",
    "        pickedSol = list()\n",
    "        while (notPicked == True):\n",
    "            rnIndex = random.randint(0, len(pop_bag)-1)\n",
    "            rnPick  = eval_result[\"fit_wgh\"][rnIndex]\n",
    "            r = random.random()\n",
    "            if  r <= rnPick:\n",
    "                pickedSol = eval_result[\"solution\"][rnIndex]\n",
    "                notPicked = False\n",
    "            if (cnt > 250):\n",
    "                pickedSol = eval_result[\"solution\"][rnIndex]\n",
    "                notPicked = False\n",
    "            cnt += 1\n",
    "\n",
    "        return pickedSol\n",
    "\n",
    "    def crossover(self, solA, solB):\n",
    "        \n",
    "        n     = len(solA)\n",
    "        child: list = []\n",
    "\n",
    "        num_els = random.randint(0, self.feature_number)\n",
    "        str_pnt = random.randint(0, max(0,n-3))\n",
    "        end_pnt = n if int(str_pnt+num_els) > n else int(str_pnt+num_els)\n",
    "\n",
    "        blockA = list(solA[str_pnt:end_pnt])\n",
    "        child = blockA.copy()\n",
    "\n",
    "        for elem in solB:\n",
    "            if len(child) >= num_els:\n",
    "                break\n",
    "            if elem not in blockA:\n",
    "                child.append(elem)  \n",
    "\n",
    "        if (len(child) < 1):\n",
    "            return solA\n",
    "\n",
    "        return child\n",
    "\n",
    "    def mutation(self,sol):\n",
    "        \n",
    "        # n = len(sol)\n",
    "        # pos_1 = random.randint(0,n-1)\n",
    "        # pos_2 = random.randint(0,n-1)\n",
    "        # result = self.swap(sol, pos_1, pos_2)\n",
    "        if (len(sol) > 2):\n",
    "            rd_idx = random.randint(0, len(sol) - 1)\n",
    "            del sol[rd_idx]\n",
    "        return sol\n",
    "\n",
    "    def swap(self,sol, posA, posB):\n",
    "        result = sol.copy()\n",
    "        elA = sol[posA]\n",
    "        elB = sol[posB]\n",
    "        result[posA] = elB\n",
    "        result[posB] = elA\n",
    "        return result"
   ]
  },
  {
   "cell_type": "code",
   "execution_count": 54,
   "metadata": {},
   "outputs": [],
   "source": [
    "def plot_ddos(df: pd.DataFrame):\n",
    "    xAxis = list(range(len(df)))\n",
    "    yAxis = df[\"Label\"].to_list()\n",
    "    # Create a figure\n",
    "    fig = plt.figure(figsize=(25,15))\n",
    "    # Add a subplot\n",
    "    ax = fig.add_subplot()\n",
    "\n",
    "    ax.plot(xAxis, yAxis)\n",
    "    rect = Rectangle((7200, 0), 300, 1, facecolor='lightgreen')\n",
    "    ax.add_patch(rect)\n",
    "    rect = Rectangle((12000, 0), 524, 1, facecolor='red')\n",
    "    ax.add_patch(rect)\n",
    "    rect = Rectangle((12524 + 6238 , 0), 300, 1, facecolor='lightgreen')\n",
    "    ax.add_patch(rect)\n",
    "    rect = Rectangle((12000 + 13676 + 524, 0), 524, 1, facecolor='red')\n",
    "    ax.add_patch(rect)\n",
    "    rect = Rectangle((12000 + 13676 + 524 + 524 + 6238, 0), 300, 1, facecolor='lightgreen')\n",
    "    ax.add_patch(rect)\n",
    "    plt.ylabel('Label')\n",
    "    plt.xlabel('Minute')\n",
    "    plt.title('Network Traffic')\n",
    "    plt.show()"
   ]
  },
  {
   "cell_type": "code",
   "execution_count": 55,
   "metadata": {},
   "outputs": [
    {
     "data": {
      "image/png": "[encoded data removed]",
      "text/plain": [
       "<Figure size 2500x1500 with 1 Axes>"
      ]
     },
     "metadata": {},
     "output_type": "display_data"
    }
   ],
   "source": [
    "plot_ddos(df)"
   ]
  },
  {
   "cell_type": "code",
   "execution_count": 274,
   "metadata": {},
   "outputs": [],
   "source": [
    "MatrixProfileManager.global_df = df.copy()"
   ]
  },
  {
   "cell_type": "code",
   "execution_count": 319,
   "metadata": {},
   "outputs": [],
   "source": [
    "mp_manager = MatrixProfileManager(df.iloc[:,[35, 0, 1, 2, 3]], window_size=60, discord_number=1000, method='mpx', measure='f1')\n",
    "mp_manager.calculate_mp_seperately_mpx()"
   ]
  },
  {
   "cell_type": "code",
   "execution_count": 320,
   "metadata": {},
   "outputs": [
    {
     "name": "stdout",
     "output_type": "stream",
     "text": [
      "0\n",
      "1\n",
      "2\n",
      "3\n",
      "4\n"
     ]
    }
   ],
   "source": [
    "mp_dict = {}\n",
    "for i in range(0, len(mp_manager.mps)):\n",
    "    print(i)\n",
    "    mp_dict[f\"mp_{i}\"] =  np.log10((1 + mp_manager.mps[i])).tolist()"
   ]
  },
  {
   "cell_type": "code",
   "execution_count": 321,
   "metadata": {},
   "outputs": [
    {
     "data": {
      "text/html": [
       "<div>\n",
       "<style scoped>\n",
       "    .dataframe tbody tr th:only-of-type {\n",
       "        vertical-align: middle;\n",
       "    }\n",
       "\n",
       "    .dataframe tbody tr th {\n",
       "        vertical-align: top;\n",
       "    }\n",
       "\n",
       "    .dataframe thead th {\n",
       "        text-align: right;\n",
       "    }\n",
       "</style>\n",
       "<table border=\"1\" class=\"dataframe\">\n",
       "  <thead>\n",
       "    <tr style=\"text-align: right;\">\n",
       "      <th></th>\n",
       "      <th>mp_0</th>\n",
       "      <th>mp_1</th>\n",
       "      <th>mp_2</th>\n",
       "      <th>mp_3</th>\n",
       "      <th>mp_4</th>\n",
       "    </tr>\n",
       "  </thead>\n",
       "  <tbody>\n",
       "    <tr>\n",
       "      <th>0</th>\n",
       "      <td>0.0</td>\n",
       "      <td>0.0</td>\n",
       "      <td>0.0</td>\n",
       "      <td>0.0</td>\n",
       "      <td>7.089164e-08</td>\n",
       "    </tr>\n",
       "    <tr>\n",
       "      <th>1</th>\n",
       "      <td>0.0</td>\n",
       "      <td>0.0</td>\n",
       "      <td>0.0</td>\n",
       "      <td>0.0</td>\n",
       "      <td>7.089164e-08</td>\n",
       "    </tr>\n",
       "    <tr>\n",
       "      <th>2</th>\n",
       "      <td>0.0</td>\n",
       "      <td>0.0</td>\n",
       "      <td>0.0</td>\n",
       "      <td>0.0</td>\n",
       "      <td>0.000000e+00</td>\n",
       "    </tr>\n",
       "    <tr>\n",
       "      <th>3</th>\n",
       "      <td>0.0</td>\n",
       "      <td>0.0</td>\n",
       "      <td>0.0</td>\n",
       "      <td>0.0</td>\n",
       "      <td>0.000000e+00</td>\n",
       "    </tr>\n",
       "    <tr>\n",
       "      <th>4</th>\n",
       "      <td>0.0</td>\n",
       "      <td>0.0</td>\n",
       "      <td>0.0</td>\n",
       "      <td>0.0</td>\n",
       "      <td>0.000000e+00</td>\n",
       "    </tr>\n",
       "    <tr>\n",
       "      <th>...</th>\n",
       "      <td>...</td>\n",
       "      <td>...</td>\n",
       "      <td>...</td>\n",
       "      <td>...</td>\n",
       "      <td>...</td>\n",
       "    </tr>\n",
       "    <tr>\n",
       "      <th>40336</th>\n",
       "      <td>0.0</td>\n",
       "      <td>0.0</td>\n",
       "      <td>0.0</td>\n",
       "      <td>0.0</td>\n",
       "      <td>0.000000e+00</td>\n",
       "    </tr>\n",
       "    <tr>\n",
       "      <th>40337</th>\n",
       "      <td>0.0</td>\n",
       "      <td>0.0</td>\n",
       "      <td>0.0</td>\n",
       "      <td>0.0</td>\n",
       "      <td>0.000000e+00</td>\n",
       "    </tr>\n",
       "    <tr>\n",
       "      <th>40338</th>\n",
       "      <td>0.0</td>\n",
       "      <td>0.0</td>\n",
       "      <td>0.0</td>\n",
       "      <td>0.0</td>\n",
       "      <td>0.000000e+00</td>\n",
       "    </tr>\n",
       "    <tr>\n",
       "      <th>40339</th>\n",
       "      <td>0.0</td>\n",
       "      <td>0.0</td>\n",
       "      <td>0.0</td>\n",
       "      <td>0.0</td>\n",
       "      <td>0.000000e+00</td>\n",
       "    </tr>\n",
       "    <tr>\n",
       "      <th>40340</th>\n",
       "      <td>0.0</td>\n",
       "      <td>0.0</td>\n",
       "      <td>0.0</td>\n",
       "      <td>0.0</td>\n",
       "      <td>0.000000e+00</td>\n",
       "    </tr>\n",
       "  </tbody>\n",
       "</table>\n",
       "<p>40341 rows × 5 columns</p>\n",
       "</div>"
      ],
      "text/plain": [
       "       mp_0  mp_1  mp_2  mp_3          mp_4\n",
       "0       0.0   0.0   0.0   0.0  7.089164e-08\n",
       "1       0.0   0.0   0.0   0.0  7.089164e-08\n",
       "2       0.0   0.0   0.0   0.0  0.000000e+00\n",
       "3       0.0   0.0   0.0   0.0  0.000000e+00\n",
       "4       0.0   0.0   0.0   0.0  0.000000e+00\n",
       "...     ...   ...   ...   ...           ...\n",
       "40336   0.0   0.0   0.0   0.0  0.000000e+00\n",
       "40337   0.0   0.0   0.0   0.0  0.000000e+00\n",
       "40338   0.0   0.0   0.0   0.0  0.000000e+00\n",
       "40339   0.0   0.0   0.0   0.0  0.000000e+00\n",
       "40340   0.0   0.0   0.0   0.0  0.000000e+00\n",
       "\n",
       "[40341 rows x 5 columns]"
      ]
     },
     "execution_count": 321,
     "metadata": {},
     "output_type": "execute_result"
    }
   ],
   "source": [
    "mp_df = pd.DataFrame(mp_dict)\n",
    "mp_df"
   ]
  },
  {
   "cell_type": "code",
   "execution_count": 322,
   "metadata": {},
   "outputs": [],
   "source": [
    "import seaborn as sns\n",
    "import matplotlib.pyplot as plt\n",
    "from sklearn.ensemble import IsolationForest"
   ]
  },
  {
   "cell_type": "code",
   "execution_count": 323,
   "metadata": {},
   "outputs": [
    {
     "data": {
      "text/html": [
       "<style>#sk-container-id-22 {color: black;background-color: white;}#sk-container-id-22 pre{padding: 0;}#sk-container-id-22 div.sk-toggleable {background-color: white;}#sk-container-id-22 label.sk-toggleable__label {cursor: pointer;display: block;width: 100%;margin-bottom: 0;padding: 0.3em;box-sizing: border-box;text-align: center;}#sk-container-id-22 label.sk-toggleable__label-arrow:before {content: \"▸\";float: left;margin-right: 0.25em;color: #696969;}#sk-container-id-22 label.sk-toggleable__label-arrow:hover:before {color: black;}#sk-container-id-22 div.sk-estimator:hover label.sk-toggleable__label-arrow:before {color: black;}#sk-container-id-22 div.sk-toggleable__content {max-height: 0;max-width: 0;overflow: hidden;text-align: left;background-color: #f0f8ff;}#sk-container-id-22 div.sk-toggleable__content pre {margin: 0.2em;color: black;border-radius: 0.25em;background-color: #f0f8ff;}#sk-container-id-22 input.sk-toggleable__control:checked~div.sk-toggleable__content {max-height: 200px;max-width: 100%;overflow: auto;}#sk-container-id-22 input.sk-toggleable__control:checked~label.sk-toggleable__label-arrow:before {content: \"▾\";}#sk-container-id-22 div.sk-estimator input.sk-toggleable__control:checked~label.sk-toggleable__label {background-color: #d4ebff;}#sk-container-id-22 div.sk-label input.sk-toggleable__control:checked~label.sk-toggleable__label {background-color: #d4ebff;}#sk-container-id-22 input.sk-hidden--visually {border: 0;clip: rect(1px 1px 1px 1px);clip: rect(1px, 1px, 1px, 1px);height: 1px;margin: -1px;overflow: hidden;padding: 0;position: absolute;width: 1px;}#sk-container-id-22 div.sk-estimator {font-family: monospace;background-color: #f0f8ff;border: 1px dotted black;border-radius: 0.25em;box-sizing: border-box;margin-bottom: 0.5em;}#sk-container-id-22 div.sk-estimator:hover {background-color: #d4ebff;}#sk-container-id-22 div.sk-parallel-item::after {content: \"\";width: 100%;border-bottom: 1px solid gray;flex-grow: 1;}#sk-container-id-22 div.sk-label:hover label.sk-toggleable__label {background-color: #d4ebff;}#sk-container-id-22 div.sk-serial::before {content: \"\";position: absolute;border-left: 1px solid gray;box-sizing: border-box;top: 0;bottom: 0;left: 50%;z-index: 0;}#sk-container-id-22 div.sk-serial {display: flex;flex-direction: column;align-items: center;background-color: white;padding-right: 0.2em;padding-left: 0.2em;position: relative;}#sk-container-id-22 div.sk-item {position: relative;z-index: 1;}#sk-container-id-22 div.sk-parallel {display: flex;align-items: stretch;justify-content: center;background-color: white;position: relative;}#sk-container-id-22 div.sk-item::before, #sk-container-id-22 div.sk-parallel-item::before {content: \"\";position: absolute;border-left: 1px solid gray;box-sizing: border-box;top: 0;bottom: 0;left: 50%;z-index: -1;}#sk-container-id-22 div.sk-parallel-item {display: flex;flex-direction: column;z-index: 1;position: relative;background-color: white;}#sk-container-id-22 div.sk-parallel-item:first-child::after {align-self: flex-end;width: 50%;}#sk-container-id-22 div.sk-parallel-item:last-child::after {align-self: flex-start;width: 50%;}#sk-container-id-22 div.sk-parallel-item:only-child::after {width: 0;}#sk-container-id-22 div.sk-dashed-wrapped {border: 1px dashed gray;margin: 0 0.4em 0.5em 0.4em;box-sizing: border-box;padding-bottom: 0.4em;background-color: white;}#sk-container-id-22 div.sk-label label {font-family: monospace;font-weight: bold;display: inline-block;line-height: 1.2em;}#sk-container-id-22 div.sk-label-container {text-align: center;}#sk-container-id-22 div.sk-container {/* jupyter's `normalize.less` sets `[hidden] { display: none; }` but bootstrap.min.css set `[hidden] { display: none !important; }` so we also need the `!important` here to be able to override the default hidden behavior on the sphinx rendered scikit-learn.org. See: https://github.com/scikit-learn/scikit-learn/issues/21755 */display: inline-block !important;position: relative;}#sk-container-id-22 div.sk-text-repr-fallback {display: none;}</style><div id=\"sk-container-id-22\" class=\"sk-top-container\"><div class=\"sk-text-repr-fallback\"><pre>IsolationForest()</pre><b>In a Jupyter environment, please rerun this cell to show the HTML representation or trust the notebook. <br />On GitHub, the HTML representation is unable to render, please try loading this page with nbviewer.org.</b></div><div class=\"sk-container\" hidden><div class=\"sk-item\"><div class=\"sk-estimator sk-toggleable\"><input class=\"sk-toggleable__control sk-hidden--visually\" id=\"sk-estimator-id-22\" type=\"checkbox\" checked><label for=\"sk-estimator-id-22\" class=\"sk-toggleable__label sk-toggleable__label-arrow\">IsolationForest</label><div class=\"sk-toggleable__content\"><pre>IsolationForest()</pre></div></div></div></div></div>"
      ],
      "text/plain": [
       "IsolationForest()"
      ]
     },
     "execution_count": 323,
     "metadata": {},
     "output_type": "execute_result"
    }
   ],
   "source": [
    "model=IsolationForest()\n",
    "model.fit(mp_df.iloc[:,:])"
   ]
  },
  {
   "cell_type": "code",
   "execution_count": 324,
   "metadata": {},
   "outputs": [],
   "source": [
    "mp_df['scores']=model.decision_function(mp_df.iloc[:,:])\n",
    "mp_df['anomaly']=model.predict(mp_df.iloc[:, :-1])"
   ]
  },
  {
   "cell_type": "code",
   "execution_count": 325,
   "metadata": {},
   "outputs": [],
   "source": [
    "anomaly_list = mp_df[mp_df[\"anomaly\"] == -1].index.to_list()\n",
    "mp_manager.discords = anomaly_list.copy()"
   ]
  },
  {
   "cell_type": "code",
   "execution_count": 326,
   "metadata": {},
   "outputs": [
    {
     "name": "stdout",
     "output_type": "stream",
     "text": [
      "{'precision': 0.8744416873449131, 'recall': 1.0, 'f1-score': 0.933015620863119, 'support': 1762}\n"
     ]
    }
   ],
   "source": [
    "mp_manager.obtain_y_vals()\n",
    "mp_manager.calculate_classification_report()\n",
    "print(mp_manager.creport)"
   ]
  },
  {
   "cell_type": "code",
   "execution_count": 327,
   "metadata": {},
   "outputs": [
    {
     "data": {
      "text/plain": [
       "2015"
      ]
     },
     "execution_count": 327,
     "metadata": {},
     "output_type": "execute_result"
    }
   ],
   "source": [
    "len(anomaly_list)"
   ]
  },
  {
   "cell_type": "code",
   "execution_count": 328,
   "metadata": {},
   "outputs": [
    {
     "data": {
      "text/html": [
       "<style>#sk-container-id-23 {color: black;background-color: white;}#sk-container-id-23 pre{padding: 0;}#sk-container-id-23 div.sk-toggleable {background-color: white;}#sk-container-id-23 label.sk-toggleable__label {cursor: pointer;display: block;width: 100%;margin-bottom: 0;padding: 0.3em;box-sizing: border-box;text-align: center;}#sk-container-id-23 label.sk-toggleable__label-arrow:before {content: \"▸\";float: left;margin-right: 0.25em;color: #696969;}#sk-container-id-23 label.sk-toggleable__label-arrow:hover:before {color: black;}#sk-container-id-23 div.sk-estimator:hover label.sk-toggleable__label-arrow:before {color: black;}#sk-container-id-23 div.sk-toggleable__content {max-height: 0;max-width: 0;overflow: hidden;text-align: left;background-color: #f0f8ff;}#sk-container-id-23 div.sk-toggleable__content pre {margin: 0.2em;color: black;border-radius: 0.25em;background-color: #f0f8ff;}#sk-container-id-23 input.sk-toggleable__control:checked~div.sk-toggleable__content {max-height: 200px;max-width: 100%;overflow: auto;}#sk-container-id-23 input.sk-toggleable__control:checked~label.sk-toggleable__label-arrow:before {content: \"▾\";}#sk-container-id-23 div.sk-estimator input.sk-toggleable__control:checked~label.sk-toggleable__label {background-color: #d4ebff;}#sk-container-id-23 div.sk-label input.sk-toggleable__control:checked~label.sk-toggleable__label {background-color: #d4ebff;}#sk-container-id-23 input.sk-hidden--visually {border: 0;clip: rect(1px 1px 1px 1px);clip: rect(1px, 1px, 1px, 1px);height: 1px;margin: -1px;overflow: hidden;padding: 0;position: absolute;width: 1px;}#sk-container-id-23 div.sk-estimator {font-family: monospace;background-color: #f0f8ff;border: 1px dotted black;border-radius: 0.25em;box-sizing: border-box;margin-bottom: 0.5em;}#sk-container-id-23 div.sk-estimator:hover {background-color: #d4ebff;}#sk-container-id-23 div.sk-parallel-item::after {content: \"\";width: 100%;border-bottom: 1px solid gray;flex-grow: 1;}#sk-container-id-23 div.sk-label:hover label.sk-toggleable__label {background-color: #d4ebff;}#sk-container-id-23 div.sk-serial::before {content: \"\";position: absolute;border-left: 1px solid gray;box-sizing: border-box;top: 0;bottom: 0;left: 50%;z-index: 0;}#sk-container-id-23 div.sk-serial {display: flex;flex-direction: column;align-items: center;background-color: white;padding-right: 0.2em;padding-left: 0.2em;position: relative;}#sk-container-id-23 div.sk-item {position: relative;z-index: 1;}#sk-container-id-23 div.sk-parallel {display: flex;align-items: stretch;justify-content: center;background-color: white;position: relative;}#sk-container-id-23 div.sk-item::before, #sk-container-id-23 div.sk-parallel-item::before {content: \"\";position: absolute;border-left: 1px solid gray;box-sizing: border-box;top: 0;bottom: 0;left: 50%;z-index: -1;}#sk-container-id-23 div.sk-parallel-item {display: flex;flex-direction: column;z-index: 1;position: relative;background-color: white;}#sk-container-id-23 div.sk-parallel-item:first-child::after {align-self: flex-end;width: 50%;}#sk-container-id-23 div.sk-parallel-item:last-child::after {align-self: flex-start;width: 50%;}#sk-container-id-23 div.sk-parallel-item:only-child::after {width: 0;}#sk-container-id-23 div.sk-dashed-wrapped {border: 1px dashed gray;margin: 0 0.4em 0.5em 0.4em;box-sizing: border-box;padding-bottom: 0.4em;background-color: white;}#sk-container-id-23 div.sk-label label {font-family: monospace;font-weight: bold;display: inline-block;line-height: 1.2em;}#sk-container-id-23 div.sk-label-container {text-align: center;}#sk-container-id-23 div.sk-container {/* jupyter's `normalize.less` sets `[hidden] { display: none; }` but bootstrap.min.css set `[hidden] { display: none !important; }` so we also need the `!important` here to be able to override the default hidden behavior on the sphinx rendered scikit-learn.org. See: https://github.com/scikit-learn/scikit-learn/issues/21755 */display: inline-block !important;position: relative;}#sk-container-id-23 div.sk-text-repr-fallback {display: none;}</style><div id=\"sk-container-id-23\" class=\"sk-top-container\"><div class=\"sk-text-repr-fallback\"><pre>IsolationForest()</pre><b>In a Jupyter environment, please rerun this cell to show the HTML representation or trust the notebook. <br />On GitHub, the HTML representation is unable to render, please try loading this page with nbviewer.org.</b></div><div class=\"sk-container\" hidden><div class=\"sk-item\"><div class=\"sk-estimator sk-toggleable\"><input class=\"sk-toggleable__control sk-hidden--visually\" id=\"sk-estimator-id-23\" type=\"checkbox\" checked><label for=\"sk-estimator-id-23\" class=\"sk-toggleable__label sk-toggleable__label-arrow\">IsolationForest</label><div class=\"sk-toggleable__content\"><pre>IsolationForest()</pre></div></div></div></div></div>"
      ],
      "text/plain": [
       "IsolationForest()"
      ]
     },
     "execution_count": 328,
     "metadata": {},
     "output_type": "execute_result"
    }
   ],
   "source": [
    "single_iso_forest_df = df.iloc[:,[35, 0, 1, 2, 3]]\n",
    "model_2=IsolationForest()\n",
    "model_2.fit(single_iso_forest_df)"
   ]
  },
  {
   "cell_type": "code",
   "execution_count": 329,
   "metadata": {},
   "outputs": [
    {
     "name": "stderr",
     "output_type": "stream",
     "text": [
      "C:\\Users\\batuh\\AppData\\Local\\Temp\\ipykernel_3220\\2535274755.py:1: SettingWithCopyWarning: \n",
      "A value is trying to be set on a copy of a slice from a DataFrame.\n",
      "Try using .loc[row_indexer,col_indexer] = value instead\n",
      "\n",
      "See the caveats in the documentation: https://pandas.pydata.org/pandas-docs/stable/user_guide/indexing.html#returning-a-view-versus-a-copy\n",
      "  single_iso_forest_df['scores']= model_2.decision_function(single_iso_forest_df.iloc[:,:])\n",
      "C:\\Users\\batuh\\AppData\\Local\\Temp\\ipykernel_3220\\2535274755.py:2: SettingWithCopyWarning: \n",
      "A value is trying to be set on a copy of a slice from a DataFrame.\n",
      "Try using .loc[row_indexer,col_indexer] = value instead\n",
      "\n",
      "See the caveats in the documentation: https://pandas.pydata.org/pandas-docs/stable/user_guide/indexing.html#returning-a-view-versus-a-copy\n",
      "  single_iso_forest_df['anomaly']= model_2.predict(single_iso_forest_df.iloc[:,:-1])\n"
     ]
    }
   ],
   "source": [
    "single_iso_forest_df['scores']= model_2.decision_function(single_iso_forest_df.iloc[:,:])\n",
    "single_iso_forest_df['anomaly']= model_2.predict(single_iso_forest_df.iloc[:,:-1])"
   ]
  },
  {
   "cell_type": "code",
   "execution_count": 331,
   "metadata": {},
   "outputs": [
    {
     "name": "stdout",
     "output_type": "stream",
     "text": [
      "14641\n"
     ]
    }
   ],
   "source": [
    "anomaly_list = single_iso_forest_df[single_iso_forest_df[\"anomaly\"] == -1].index.to_list()\n",
    "print(len(anomaly_list))"
   ]
  },
  {
   "cell_type": "code",
   "execution_count": 332,
   "metadata": {},
   "outputs": [],
   "source": [
    "true_label_list = df[df[\"Label\"] == 1].index.to_list()"
   ]
  },
  {
   "cell_type": "code",
   "execution_count": 333,
   "metadata": {},
   "outputs": [],
   "source": [
    "y_pred_df = df.copy()\n",
    "y_pred_df[\"y_pred\"] = np.zeros(len(df))\n",
    "y_pred_df.iloc[anomaly_list, -1] = 1"
   ]
  },
  {
   "cell_type": "code",
   "execution_count": 334,
   "metadata": {},
   "outputs": [],
   "source": [
    "from sklearn.metrics import classification_report"
   ]
  },
  {
   "cell_type": "code",
   "execution_count": 335,
   "metadata": {},
   "outputs": [
    {
     "name": "stdout",
     "output_type": "stream",
     "text": [
      "              precision    recall  f1-score   support\n",
      "\n",
      "           0       1.00      0.67      0.80     38638\n",
      "           1       0.12      1.00      0.21      1762\n",
      "\n",
      "    accuracy                           0.68     40400\n",
      "   macro avg       0.56      0.83      0.51     40400\n",
      "weighted avg       0.96      0.68      0.77     40400\n",
      "\n"
     ]
    }
   ],
   "source": [
    "print(classification_report(y_pred_df[\"Label\"].to_list(), y_pred_df[\"y_pred\"].to_list()))"
   ]
  },
  {
   "cell_type": "code",
   "execution_count": null,
   "metadata": {},
   "outputs": [],
   "source": []
  },
  {
   "cell_type": "code",
   "execution_count": 66,
   "metadata": {},
   "outputs": [
    {
     "ename": "FileNotFoundError",
     "evalue": "[Errno 2] No such file or directory: '../verisetleri/ddos_dataset_on_seconds.csv'",
     "output_type": "error",
     "traceback": [
      "\u001b[1;31m---------------------------------------------------------------------------\u001b[0m",
      "\u001b[1;31mFileNotFoundError\u001b[0m                         Traceback (most recent call last)",
      "Cell \u001b[1;32mIn[66], line 1\u001b[0m\n\u001b[1;32m----> 1\u001b[0m \u001b[39mimport\u001b[39;00m \u001b[39mmp_genetic_utils\u001b[39;00m\n\u001b[0;32m      2\u001b[0m \u001b[39mimport\u001b[39;00m \u001b[39mpandas\u001b[39;00m \u001b[39mas\u001b[39;00m \u001b[39mpd\u001b[39;00m\n\u001b[0;32m      6\u001b[0m \u001b[39mimport\u001b[39;00m \u001b[39mrandom\u001b[39;00m \u001b[39mas\u001b[39;00m \u001b[39mrnd\u001b[39;00m\n",
      "File \u001b[1;32mc:\\Users\\batuh\\OneDrive\\Desktop\\Boun_Tez\\matrix_profile_ddos\\mp_genetic_utils.py:6\u001b[0m\n\u001b[0;32m      3\u001b[0m \u001b[39mimport\u001b[39;00m \u001b[39mstumpy\u001b[39;00m\n\u001b[0;32m      4\u001b[0m \u001b[39mimport\u001b[39;00m \u001b[39mrandom\u001b[39;00m\n\u001b[1;32m----> 6\u001b[0m \u001b[39mclass\u001b[39;00m \u001b[39mMatrixProfileManager\u001b[39;00m:\n\u001b[0;32m      7\u001b[0m     \u001b[39mif\u001b[39;00m \u001b[39m'\u001b[39m\u001b[39mglobal_df\u001b[39m\u001b[39m'\u001b[39m \u001b[39mnot\u001b[39;00m \u001b[39min\u001b[39;00m \u001b[39mdir\u001b[39m():\n\u001b[0;32m      8\u001b[0m         global_df \u001b[39m=\u001b[39m pd\u001b[39m.\u001b[39mread_csv(\u001b[39m'\u001b[39m\u001b[39m../verisetleri/ddos_dataset_on_seconds.csv\u001b[39m\u001b[39m'\u001b[39m, low_memory\u001b[39m=\u001b[39m\u001b[39mTrue\u001b[39;00m)\n",
      "File \u001b[1;32mc:\\Users\\batuh\\OneDrive\\Desktop\\Boun_Tez\\matrix_profile_ddos\\mp_genetic_utils.py:8\u001b[0m, in \u001b[0;36mMatrixProfileManager\u001b[1;34m()\u001b[0m\n\u001b[0;32m      6\u001b[0m \u001b[39mclass\u001b[39;00m \u001b[39mMatrixProfileManager\u001b[39;00m:\n\u001b[0;32m      7\u001b[0m     \u001b[39mif\u001b[39;00m \u001b[39m'\u001b[39m\u001b[39mglobal_df\u001b[39m\u001b[39m'\u001b[39m \u001b[39mnot\u001b[39;00m \u001b[39min\u001b[39;00m \u001b[39mdir\u001b[39m():\n\u001b[1;32m----> 8\u001b[0m         global_df \u001b[39m=\u001b[39m pd\u001b[39m.\u001b[39;49mread_csv(\u001b[39m'\u001b[39;49m\u001b[39m../verisetleri/ddos_dataset_on_seconds.csv\u001b[39;49m\u001b[39m'\u001b[39;49m, low_memory\u001b[39m=\u001b[39;49m\u001b[39mTrue\u001b[39;49;00m)\n\u001b[0;32m     10\u001b[0m     THRESHOLD_BASE_ACTIVE \u001b[39m=\u001b[39m \u001b[39mFalse\u001b[39;00m\n\u001b[0;32m     11\u001b[0m     threshold \u001b[39m=\u001b[39m \u001b[39m1.5\u001b[39m\n",
      "File \u001b[1;32mc:\\Users\\batuh\\anaconda3\\envs\\tez_env\\lib\\site-packages\\pandas\\util\\_decorators.py:211\u001b[0m, in \u001b[0;36mdeprecate_kwarg.<locals>._deprecate_kwarg.<locals>.wrapper\u001b[1;34m(*args, **kwargs)\u001b[0m\n\u001b[0;32m    209\u001b[0m     \u001b[39melse\u001b[39;00m:\n\u001b[0;32m    210\u001b[0m         kwargs[new_arg_name] \u001b[39m=\u001b[39m new_arg_value\n\u001b[1;32m--> 211\u001b[0m \u001b[39mreturn\u001b[39;00m func(\u001b[39m*\u001b[39margs, \u001b[39m*\u001b[39m\u001b[39m*\u001b[39mkwargs)\n",
      "File \u001b[1;32mc:\\Users\\batuh\\anaconda3\\envs\\tez_env\\lib\\site-packages\\pandas\\util\\_decorators.py:331\u001b[0m, in \u001b[0;36mdeprecate_nonkeyword_arguments.<locals>.decorate.<locals>.wrapper\u001b[1;34m(*args, **kwargs)\u001b[0m\n\u001b[0;32m    325\u001b[0m \u001b[39mif\u001b[39;00m \u001b[39mlen\u001b[39m(args) \u001b[39m>\u001b[39m num_allow_args:\n\u001b[0;32m    326\u001b[0m     warnings\u001b[39m.\u001b[39mwarn(\n\u001b[0;32m    327\u001b[0m         msg\u001b[39m.\u001b[39mformat(arguments\u001b[39m=\u001b[39m_format_argument_list(allow_args)),\n\u001b[0;32m    328\u001b[0m         \u001b[39mFutureWarning\u001b[39;00m,\n\u001b[0;32m    329\u001b[0m         stacklevel\u001b[39m=\u001b[39mfind_stack_level(),\n\u001b[0;32m    330\u001b[0m     )\n\u001b[1;32m--> 331\u001b[0m \u001b[39mreturn\u001b[39;00m func(\u001b[39m*\u001b[39margs, \u001b[39m*\u001b[39m\u001b[39m*\u001b[39mkwargs)\n",
      "File \u001b[1;32mc:\\Users\\batuh\\anaconda3\\envs\\tez_env\\lib\\site-packages\\pandas\\io\\parsers\\readers.py:950\u001b[0m, in \u001b[0;36mread_csv\u001b[1;34m(filepath_or_buffer, sep, delimiter, header, names, index_col, usecols, squeeze, prefix, mangle_dupe_cols, dtype, engine, converters, true_values, false_values, skipinitialspace, skiprows, skipfooter, nrows, na_values, keep_default_na, na_filter, verbose, skip_blank_lines, parse_dates, infer_datetime_format, keep_date_col, date_parser, dayfirst, cache_dates, iterator, chunksize, compression, thousands, decimal, lineterminator, quotechar, quoting, doublequote, escapechar, comment, encoding, encoding_errors, dialect, error_bad_lines, warn_bad_lines, on_bad_lines, delim_whitespace, low_memory, memory_map, float_precision, storage_options)\u001b[0m\n\u001b[0;32m    935\u001b[0m kwds_defaults \u001b[39m=\u001b[39m _refine_defaults_read(\n\u001b[0;32m    936\u001b[0m     dialect,\n\u001b[0;32m    937\u001b[0m     delimiter,\n\u001b[1;32m   (...)\u001b[0m\n\u001b[0;32m    946\u001b[0m     defaults\u001b[39m=\u001b[39m{\u001b[39m\"\u001b[39m\u001b[39mdelimiter\u001b[39m\u001b[39m\"\u001b[39m: \u001b[39m\"\u001b[39m\u001b[39m,\u001b[39m\u001b[39m\"\u001b[39m},\n\u001b[0;32m    947\u001b[0m )\n\u001b[0;32m    948\u001b[0m kwds\u001b[39m.\u001b[39mupdate(kwds_defaults)\n\u001b[1;32m--> 950\u001b[0m \u001b[39mreturn\u001b[39;00m _read(filepath_or_buffer, kwds)\n",
      "File \u001b[1;32mc:\\Users\\batuh\\anaconda3\\envs\\tez_env\\lib\\site-packages\\pandas\\io\\parsers\\readers.py:605\u001b[0m, in \u001b[0;36m_read\u001b[1;34m(filepath_or_buffer, kwds)\u001b[0m\n\u001b[0;32m    602\u001b[0m _validate_names(kwds\u001b[39m.\u001b[39mget(\u001b[39m\"\u001b[39m\u001b[39mnames\u001b[39m\u001b[39m\"\u001b[39m, \u001b[39mNone\u001b[39;00m))\n\u001b[0;32m    604\u001b[0m \u001b[39m# Create the parser.\u001b[39;00m\n\u001b[1;32m--> 605\u001b[0m parser \u001b[39m=\u001b[39m TextFileReader(filepath_or_buffer, \u001b[39m*\u001b[39m\u001b[39m*\u001b[39mkwds)\n\u001b[0;32m    607\u001b[0m \u001b[39mif\u001b[39;00m chunksize \u001b[39mor\u001b[39;00m iterator:\n\u001b[0;32m    608\u001b[0m     \u001b[39mreturn\u001b[39;00m parser\n",
      "File \u001b[1;32mc:\\Users\\batuh\\anaconda3\\envs\\tez_env\\lib\\site-packages\\pandas\\io\\parsers\\readers.py:1442\u001b[0m, in \u001b[0;36mTextFileReader.__init__\u001b[1;34m(self, f, engine, **kwds)\u001b[0m\n\u001b[0;32m   1439\u001b[0m     \u001b[39mself\u001b[39m\u001b[39m.\u001b[39moptions[\u001b[39m\"\u001b[39m\u001b[39mhas_index_names\u001b[39m\u001b[39m\"\u001b[39m] \u001b[39m=\u001b[39m kwds[\u001b[39m\"\u001b[39m\u001b[39mhas_index_names\u001b[39m\u001b[39m\"\u001b[39m]\n\u001b[0;32m   1441\u001b[0m \u001b[39mself\u001b[39m\u001b[39m.\u001b[39mhandles: IOHandles \u001b[39m|\u001b[39m \u001b[39mNone\u001b[39;00m \u001b[39m=\u001b[39m \u001b[39mNone\u001b[39;00m\n\u001b[1;32m-> 1442\u001b[0m \u001b[39mself\u001b[39m\u001b[39m.\u001b[39m_engine \u001b[39m=\u001b[39m \u001b[39mself\u001b[39;49m\u001b[39m.\u001b[39;49m_make_engine(f, \u001b[39mself\u001b[39;49m\u001b[39m.\u001b[39;49mengine)\n",
      "File \u001b[1;32mc:\\Users\\batuh\\anaconda3\\envs\\tez_env\\lib\\site-packages\\pandas\\io\\parsers\\readers.py:1735\u001b[0m, in \u001b[0;36mTextFileReader._make_engine\u001b[1;34m(self, f, engine)\u001b[0m\n\u001b[0;32m   1733\u001b[0m     \u001b[39mif\u001b[39;00m \u001b[39m\"\u001b[39m\u001b[39mb\u001b[39m\u001b[39m\"\u001b[39m \u001b[39mnot\u001b[39;00m \u001b[39min\u001b[39;00m mode:\n\u001b[0;32m   1734\u001b[0m         mode \u001b[39m+\u001b[39m\u001b[39m=\u001b[39m \u001b[39m\"\u001b[39m\u001b[39mb\u001b[39m\u001b[39m\"\u001b[39m\n\u001b[1;32m-> 1735\u001b[0m \u001b[39mself\u001b[39m\u001b[39m.\u001b[39mhandles \u001b[39m=\u001b[39m get_handle(\n\u001b[0;32m   1736\u001b[0m     f,\n\u001b[0;32m   1737\u001b[0m     mode,\n\u001b[0;32m   1738\u001b[0m     encoding\u001b[39m=\u001b[39;49m\u001b[39mself\u001b[39;49m\u001b[39m.\u001b[39;49moptions\u001b[39m.\u001b[39;49mget(\u001b[39m\"\u001b[39;49m\u001b[39mencoding\u001b[39;49m\u001b[39m\"\u001b[39;49m, \u001b[39mNone\u001b[39;49;00m),\n\u001b[0;32m   1739\u001b[0m     compression\u001b[39m=\u001b[39;49m\u001b[39mself\u001b[39;49m\u001b[39m.\u001b[39;49moptions\u001b[39m.\u001b[39;49mget(\u001b[39m\"\u001b[39;49m\u001b[39mcompression\u001b[39;49m\u001b[39m\"\u001b[39;49m, \u001b[39mNone\u001b[39;49;00m),\n\u001b[0;32m   1740\u001b[0m     memory_map\u001b[39m=\u001b[39;49m\u001b[39mself\u001b[39;49m\u001b[39m.\u001b[39;49moptions\u001b[39m.\u001b[39;49mget(\u001b[39m\"\u001b[39;49m\u001b[39mmemory_map\u001b[39;49m\u001b[39m\"\u001b[39;49m, \u001b[39mFalse\u001b[39;49;00m),\n\u001b[0;32m   1741\u001b[0m     is_text\u001b[39m=\u001b[39;49mis_text,\n\u001b[0;32m   1742\u001b[0m     errors\u001b[39m=\u001b[39;49m\u001b[39mself\u001b[39;49m\u001b[39m.\u001b[39;49moptions\u001b[39m.\u001b[39;49mget(\u001b[39m\"\u001b[39;49m\u001b[39mencoding_errors\u001b[39;49m\u001b[39m\"\u001b[39;49m, \u001b[39m\"\u001b[39;49m\u001b[39mstrict\u001b[39;49m\u001b[39m\"\u001b[39;49m),\n\u001b[0;32m   1743\u001b[0m     storage_options\u001b[39m=\u001b[39;49m\u001b[39mself\u001b[39;49m\u001b[39m.\u001b[39;49moptions\u001b[39m.\u001b[39;49mget(\u001b[39m\"\u001b[39;49m\u001b[39mstorage_options\u001b[39;49m\u001b[39m\"\u001b[39;49m, \u001b[39mNone\u001b[39;49;00m),\n\u001b[0;32m   1744\u001b[0m )\n\u001b[0;32m   1745\u001b[0m \u001b[39massert\u001b[39;00m \u001b[39mself\u001b[39m\u001b[39m.\u001b[39mhandles \u001b[39mis\u001b[39;00m \u001b[39mnot\u001b[39;00m \u001b[39mNone\u001b[39;00m\n\u001b[0;32m   1746\u001b[0m f \u001b[39m=\u001b[39m \u001b[39mself\u001b[39m\u001b[39m.\u001b[39mhandles\u001b[39m.\u001b[39mhandle\n",
      "File \u001b[1;32mc:\\Users\\batuh\\anaconda3\\envs\\tez_env\\lib\\site-packages\\pandas\\io\\common.py:856\u001b[0m, in \u001b[0;36mget_handle\u001b[1;34m(path_or_buf, mode, encoding, compression, memory_map, is_text, errors, storage_options)\u001b[0m\n\u001b[0;32m    851\u001b[0m \u001b[39melif\u001b[39;00m \u001b[39misinstance\u001b[39m(handle, \u001b[39mstr\u001b[39m):\n\u001b[0;32m    852\u001b[0m     \u001b[39m# Check whether the filename is to be opened in binary mode.\u001b[39;00m\n\u001b[0;32m    853\u001b[0m     \u001b[39m# Binary mode does not support 'encoding' and 'newline'.\u001b[39;00m\n\u001b[0;32m    854\u001b[0m     \u001b[39mif\u001b[39;00m ioargs\u001b[39m.\u001b[39mencoding \u001b[39mand\u001b[39;00m \u001b[39m\"\u001b[39m\u001b[39mb\u001b[39m\u001b[39m\"\u001b[39m \u001b[39mnot\u001b[39;00m \u001b[39min\u001b[39;00m ioargs\u001b[39m.\u001b[39mmode:\n\u001b[0;32m    855\u001b[0m         \u001b[39m# Encoding\u001b[39;00m\n\u001b[1;32m--> 856\u001b[0m         handle \u001b[39m=\u001b[39m \u001b[39mopen\u001b[39;49m(\n\u001b[0;32m    857\u001b[0m             handle,\n\u001b[0;32m    858\u001b[0m             ioargs\u001b[39m.\u001b[39;49mmode,\n\u001b[0;32m    859\u001b[0m             encoding\u001b[39m=\u001b[39;49mioargs\u001b[39m.\u001b[39;49mencoding,\n\u001b[0;32m    860\u001b[0m             errors\u001b[39m=\u001b[39;49merrors,\n\u001b[0;32m    861\u001b[0m             newline\u001b[39m=\u001b[39;49m\u001b[39m\"\u001b[39;49m\u001b[39m\"\u001b[39;49m,\n\u001b[0;32m    862\u001b[0m         )\n\u001b[0;32m    863\u001b[0m     \u001b[39melse\u001b[39;00m:\n\u001b[0;32m    864\u001b[0m         \u001b[39m# Binary mode\u001b[39;00m\n\u001b[0;32m    865\u001b[0m         handle \u001b[39m=\u001b[39m \u001b[39mopen\u001b[39m(handle, ioargs\u001b[39m.\u001b[39mmode)\n",
      "\u001b[1;31mFileNotFoundError\u001b[0m: [Errno 2] No such file or directory: '../verisetleri/ddos_dataset_on_seconds.csv'"
     ]
    }
   ],
   "source": [
    "import mp_genetic_utils\n",
    "import pandas as pd\n",
    "\n",
    "\n",
    "\n",
    "import random as rnd\n",
    "MatrixProfileManager.THRESHOLD_BASE_ACTIVE = True\n",
    "MatrixProfileManager.global_df = df.copy()\n",
    "MatrixProfileManager.threshold = 8\n",
    "GeneticAlgo.thresholded_mp = True\n",
    "genetic_algo = GeneticAlgo(df.copy(), max_features=38, population_bag_size=10, fitness=\"F1\")\n",
    "pop_bag = genetic_algo.initialize_population()\n",
    "generation_number = 1\n",
    "for generation in range(generation_number):\n",
    "    print(f\"Generation {generation} is started!\")\n",
    "    \n",
    "    res = genetic_algo.eval_fit_population(pop_bag)\n",
    "    best_fit, _, best_solution, f1_score = genetic_algo.find_best(res).values()\n",
    "    \n",
    "    if (generation == 0):\n",
    "        best_fit_global      = best_fit\n",
    "        best_solution_global = best_solution\n",
    "        best_f1_global = f1_score\n",
    "    else:\n",
    "        if (f1_score >= best_f1_global):\n",
    "            best_fit_global      = best_fit\n",
    "            best_solution_global = best_solution\n",
    "            best_f1_global = f1_score\n",
    "\n",
    "    new_pop_bag = []\n",
    "    for i in range(len(genetic_algo.population_bag)):\n",
    "                # Pick 2 parents from the bag\n",
    "        pA = genetic_algo.pick_one(pop_bag)\n",
    "        pB = genetic_algo.pick_one(pop_bag)\n",
    "        new_element = pA\n",
    "            # Crossover the parents\n",
    "        if rnd.random() <= 0.87:\n",
    "            new_element = genetic_algo.crossover(pA, pB)\n",
    "            # Mutate the child\n",
    "        if rnd.random() <= 0.5:\n",
    "            new_element = genetic_algo.mutation(new_element) \n",
    "        new_pop_bag.append(new_element)\n",
    "            # Set the new bag as the population bag\n",
    "    pop_bag = genetic_algo.create_population(new_pop_bag)\n",
    "\n",
    "print(\"\\n\\n**** Generations Over ****\\n\")\n",
    "print(f\"Best Fitness: {best_fit_global}\")\n",
    "print(f\"Best Solution: {best_solution_global}\")\n",
    "print(f\"F1-Score: {f1_score}\")\n"
   ]
  },
  {
   "cell_type": "code",
   "execution_count": 48,
   "metadata": {},
   "outputs": [
    {
     "data": {
      "text/plain": [
       "3"
      ]
     },
     "execution_count": 48,
     "metadata": {},
     "output_type": "execute_result"
    }
   ],
   "source": [
    "random.randint(0, 3)"
   ]
  },
  {
   "cell_type": "code",
   "execution_count": 35,
   "metadata": {},
   "outputs": [],
   "source": [
    "a_list = list(range(0, len(MatrixProfileManager.global_df)))"
   ]
  },
  {
   "cell_type": "code",
   "execution_count": 37,
   "metadata": {},
   "outputs": [
    {
     "data": {
      "text/plain": [
       "635"
      ]
     },
     "execution_count": 37,
     "metadata": {},
     "output_type": "execute_result"
    }
   ],
   "source": [
    "len(mp_manager.discords)"
   ]
  },
  {
   "cell_type": "code",
   "execution_count": 14,
   "metadata": {},
   "outputs": [
    {
     "name": "stdout",
     "output_type": "stream",
     "text": [
      "Genetic Algorithm Process is ready to start\n"
     ]
    }
   ],
   "source": []
  },
  {
   "cell_type": "code",
   "execution_count": 15,
   "metadata": {},
   "outputs": [],
   "source": []
  },
  {
   "cell_type": "code",
   "execution_count": 42,
   "metadata": {},
   "outputs": [
    {
     "name": "stdout",
     "output_type": "stream",
     "text": [
      "Genetic Algorithm Process is ready to start\n",
      "threshold based discords\n",
      "threshold based discords\n",
      "threshold based discords\n",
      "threshold based discords\n",
      "threshold based discords\n"
     ]
    }
   ],
   "source": [
    "gA = GeneticAlgo(df.copy(), max_features=10, population_bag_size=5, fitness=\"F1\")\n",
    "first_pop = gA.initialize_population()\n",
    "\n",
    "MatrixProfileManager.THRESHOLD_BASE_ACTIVE = True\n",
    "MatrixProfileManager.global_df = df.copy()\n",
    "MatrixProfileManager.threshold = 5\n",
    "\n",
    "for pop in first_pop:\n",
    "    mp_deneme_manager = MatrixProfileManager(pop, window_size=60, discord_number=1000, method='mpx', measure='f1')\n",
    "    cost, f1_score = mp_deneme_manager.calculate_threshold_based_cost()"
   ]
  },
  {
   "cell_type": "code",
   "execution_count": null,
   "metadata": {},
   "outputs": [],
   "source": []
  }
 ],
 "metadata": {
  "kernelspec": {
   "display_name": "Python 3",
   "language": "python",
   "name": "python3"
  },
  "language_info": {
   "codemirror_mode": {
    "name": "ipython",
    "version": 3
   },
   "file_extension": ".py",
   "mimetype": "text/x-python",
   "name": "python",
   "nbconvert_exporter": "python",
   "pygments_lexer": "ipython3",
   "version": "3.9.15"
  },
  "orig_nbformat": 4,
  "vscode": {
   "interpreter": {
    "hash": "f505cdedca4fdc679839392ece0c01b22c10f624b9c10a738657238d4e3ea341"
   }
  }
 },
 "nbformat": 4,
 "nbformat_minor": 2
}
