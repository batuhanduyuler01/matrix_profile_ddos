{
 "cells": [
  {
   "cell_type": "code",
   "execution_count": 1,
   "id": "a5c27f26",
   "metadata": {},
   "outputs": [],
   "source": [
    "import matplotlib.pyplot as plt\n",
    "import numpy as np\n",
    "import pandas as pd\n",
    "import matrixprofile as mp\n",
    "import random\n",
    "import time\n",
    "import os\n",
    "from matplotlib.patches import Rectangle\n",
    "from collections import Counter\n",
    "import math\n"
   ]
  },
  {
   "cell_type": "code",
   "execution_count": 2,
   "id": "1e24807f",
   "metadata": {},
   "outputs": [],
   "source": [
    "data_paths = {  'ntp' : '../verisetleri/ntp.pkl',\n",
    "                'udp' : '../verisetleri/udp.pkl',\n",
    "                'syn' : '../verisetleri/syn.pkl',}\n",
    "\n",
    "dataset_dict = {    'ntp' : None, 'udp' : None,\n",
    "                    'syn' : None}"
   ]
  },
  {
   "cell_type": "code",
   "execution_count": 3,
   "id": "b2c0d5fa",
   "metadata": {},
   "outputs": [],
   "source": [
    "def upload_dataset_with_time(path:str):\n",
    "    startingT = time.perf_counter()\n",
    "    if 'pkl' in path:\n",
    "        veriseti = pd.read_pickle(path)\n",
    "    else:\n",
    "        veriseti = pd.read_csv(path, low_memory=False)\n",
    "    endingT = time.perf_counter()\n",
    "    print(f\"Dataset is loaded in {endingT - startingT} seconds\")\n",
    "    return veriseti"
   ]
  },
  {
   "cell_type": "code",
   "execution_count": 4,
   "id": "84a3fa8c",
   "metadata": {},
   "outputs": [
    {
     "name": "stdout",
     "output_type": "stream",
     "text": [
      "Dataset is loaded in 1.0632842 seconds\n",
      "Dataset is loaded in 2.5220478 seconds\n",
      "Dataset is loaded in 1.0451814000000006 seconds\n"
     ]
    }
   ],
   "source": [
    "for data_name, path in data_paths.items():\n",
    "    data = upload_dataset_with_time(path)\n",
    "    dataset_dict[data_name] = data"
   ]
  },
  {
   "cell_type": "code",
   "execution_count": 5,
   "id": "89b75a5e",
   "metadata": {},
   "outputs": [
    {
     "data": {
      "text/plain": [
       "Counter({'Syn': 1582289, 'BENIGN': 392})"
      ]
     },
     "execution_count": 5,
     "metadata": {},
     "output_type": "execute_result"
    }
   ],
   "source": [
    "Counter(dataset_dict[\"syn\"][\" Label\"])"
   ]
  },
  {
   "cell_type": "code",
   "execution_count": 6,
   "id": "581bcd3d",
   "metadata": {},
   "outputs": [
    {
     "data": {
      "text/plain": [
       "Counter({'DrDoS_NTP': 1202642, 'BENIGN': 14365})"
      ]
     },
     "execution_count": 6,
     "metadata": {},
     "output_type": "execute_result"
    }
   ],
   "source": [
    "Counter(dataset_dict[\"ntp\"][\" Label\"])"
   ]
  },
  {
   "cell_type": "code",
   "execution_count": 7,
   "id": "72c97e9a",
   "metadata": {},
   "outputs": [
    {
     "data": {
      "text/plain": [
       "Counter({'DrDoS_UDP': 3134645, 'BENIGN': 2157})"
      ]
     },
     "execution_count": 7,
     "metadata": {},
     "output_type": "execute_result"
    }
   ],
   "source": [
    "Counter(dataset_dict[\"udp\"][\" Label\"])"
   ]
  },
  {
   "cell_type": "code",
   "execution_count": null,
   "id": "0062a964",
   "metadata": {},
   "outputs": [],
   "source": []
  },
  {
   "cell_type": "code",
   "execution_count": 8,
   "id": "774e7c53",
   "metadata": {},
   "outputs": [],
   "source": [
    "def parse_df_to_time(df:pd.DataFrame)->pd.DataFrame:\n",
    "    time_df = pd.DataFrame()\n",
    "    time_df[\"Time_Date\"] = df[\" Timestamp\"].apply(lambda x: str(x).split(\" \")[0])\n",
    "    time_df[\"Date_Second\"] = df[\" Timestamp\"].apply(lambda x : str(x).split(\" \")[1].split(\".\")[0])\n",
    "    time_df[\"Date_Hour_Minute\"] = df[\" Timestamp\"].apply(lambda x: \":\".join(str(x).split(\" \")[1].split(\":\")[:2]))\n",
    "    \n",
    "    return time_df"
   ]
  },
  {
   "cell_type": "code",
   "execution_count": 9,
   "id": "6e974787",
   "metadata": {},
   "outputs": [],
   "source": [
    "drop_list = [ ' Fwd Header Length.1', 'Fwd Avg Bytes/Bulk',\n",
    "       ' Fwd Avg Packets/Bulk', ' Fwd Avg Bulk Rate', ' Bwd Avg Bytes/Bulk',\n",
    "       ' Bwd Avg Packets/Bulk',' Subflow Fwd Bytes',\n",
    "        ' Subflow Bwd Packets', ' Subflow Bwd Bytes',\n",
    "       'Init_Win_bytes_forward', ' Init_Win_bytes_backward',\n",
    "       ' act_data_pkt_fwd', ' min_seg_size_forward', 'Active Mean',\n",
    "       ' Active Std', ' Active Max', ' Active Min', 'Idle Mean', ' Idle Std',\n",
    "       ' Idle Max', ' Idle Min', 'SimillarHTTP', ' Inbound', 'Unnamed: 0', ' Source IP', ' Source Port',\n",
    "       ' Destination IP', ' Destination Port', ' Protocol', ' Timestamp',\n",
    "        'Flow ID', ' Label']"
   ]
  },
  {
   "cell_type": "code",
   "execution_count": 10,
   "id": "dfbbd04e",
   "metadata": {},
   "outputs": [],
   "source": [
    "def prepare_timed_df(time_df, pure_df):\n",
    "    global drop_list\n",
    "    concat_pure = pure_df.drop(drop_list, axis = 1)\n",
    "    \n",
    "    new_timed_df = pd.concat([time_df, concat_pure], axis = 1)\n",
    "    new_timed_df[\"Label\"] = pure_df[\" Label\"].apply(lambda x: 0 if x == \"BENIGN\" else 1)\n",
    "    \n",
    "    unique_seconds = set(new_timed_df[\"Date_Second\"])\n",
    "    print(f\"length of unique seconds: {len(unique_seconds)}\")\n",
    "    return new_timed_df"
   ]
  },
  {
   "cell_type": "code",
   "execution_count": 11,
   "id": "281146e2",
   "metadata": {},
   "outputs": [],
   "source": [
    "def save_data_frame(df_name:str, df:pd.DataFrame):\n",
    "    minutes = math.floor(df.shape[0] / 60)\n",
    "    data_last_index = minutes * 60\n",
    "    \n",
    "    save_df : pd.DataFrame = df.iloc[:data_last_index,:]\n",
    "    df_name = f\"{df_name}_{minutes}_minutes.csv\"\n",
    "    save_df.to_csv(f\"{df_name}\", index=False)"
   ]
  },
  {
   "cell_type": "code",
   "execution_count": 12,
   "id": "4e4c793f",
   "metadata": {},
   "outputs": [],
   "source": [
    "def prepare_ddos_data(df : pd.DataFrame):\n",
    "    df_numeric = pd.concat([df[[\"Date_Second\"]], df.select_dtypes(include='number')], axis=1)\n",
    "    df_ddos = df_numeric[df_numeric[\"Label\"] == 1].reset_index(drop=True)\n",
    "    \n",
    "    df_ddos_grouped = df_ddos.groupby(\"Date_Second\").sum().reset_index(drop=False)\n",
    "    \n",
    "    df_ddos_grouped[\"Label\"] = df_ddos_grouped[\"Label\"].apply(lambda x: 1 if x > 5 else 0)\n",
    "    df_ddos_grouped = df_ddos_grouped[df_ddos_grouped[\"Label\"] == 1]\n",
    "    \n",
    "    return df_ddos_grouped"
   ]
  },
  {
   "cell_type": "markdown",
   "id": "96cf2fa0",
   "metadata": {},
   "source": [
    "### 1. SYN Datasetinden DDoS Verisi Hazırlama"
   ]
  },
  {
   "cell_type": "code",
   "execution_count": 13,
   "id": "0ed4733a",
   "metadata": {},
   "outputs": [
    {
     "name": "stdout",
     "output_type": "stream",
     "text": [
      "length of unique seconds: 238\n"
     ]
    }
   ],
   "source": [
    "syn_by_time = parse_df_to_time(dataset_dict[\"syn\"])\n",
    "syn_by_time = prepare_timed_df(syn_by_time, dataset_dict[\"syn\"])\n",
    "del dataset_dict[\"syn\"]"
   ]
  },
  {
   "cell_type": "code",
   "execution_count": 14,
   "id": "79a6cd3f",
   "metadata": {},
   "outputs": [],
   "source": [
    "syn_benign = syn_by_time[syn_by_time[\"Label\"] == 0].groupby(\"Date_Second\").sum(numeric_only=True).reset_index(drop=False)\n",
    "save_data_frame(\"syn_benign\", syn_benign)"
   ]
  },
  {
   "cell_type": "code",
   "execution_count": 15,
   "id": "730e3caf",
   "metadata": {},
   "outputs": [],
   "source": [
    "grouped_syn_df = prepare_ddos_data(syn_by_time)\n",
    "del syn_by_time\n",
    "save_data_frame(\"syn_ddos\", grouped_syn_df)"
   ]
  },
  {
   "cell_type": "code",
   "execution_count": 16,
   "id": "e2f39dd7",
   "metadata": {},
   "outputs": [],
   "source": [
    "del syn_benign"
   ]
  },
  {
   "cell_type": "markdown",
   "id": "ade0524f",
   "metadata": {},
   "source": [
    "### 2.UDP Datasetinden DDoS Verisi Hazırlama"
   ]
  },
  {
   "cell_type": "code",
   "execution_count": 17,
   "id": "0738432f",
   "metadata": {},
   "outputs": [
    {
     "name": "stdout",
     "output_type": "stream",
     "text": [
      "length of unique seconds: 1521\n"
     ]
    }
   ],
   "source": [
    "udp_by_time = parse_df_to_time(dataset_dict[\"udp\"])\n",
    "#out of memory sebebiyle 5 dk udp logu aliyoruz\n",
    "final_udp_idx = len((udp_by_time[udp_by_time[\"Date_Hour_Minute\"] < \"12:41\"][\"Date_Hour_Minute\"]))\n",
    "dataset_dict[\"udp\"] = dataset_dict[\"udp\"].iloc[:final_udp_idx+1, :]\n",
    "\n",
    "udp_by_time = prepare_timed_df(udp_by_time, dataset_dict[\"udp\"])\n",
    "del dataset_dict[\"udp\"]"
   ]
  },
  {
   "cell_type": "code",
   "execution_count": 18,
   "id": "36fcb43a",
   "metadata": {},
   "outputs": [],
   "source": [
    "grouped_udp_df = prepare_ddos_data(udp_by_time)\n",
    "del udp_by_time\n",
    "save_data_frame(\"udp_ddos\", grouped_udp_df)"
   ]
  },
  {
   "cell_type": "code",
   "execution_count": 19,
   "id": "6da63170",
   "metadata": {},
   "outputs": [],
   "source": [
    "del grouped_udp_df"
   ]
  },
  {
   "cell_type": "markdown",
   "id": "5182250c",
   "metadata": {},
   "source": [
    "### 3. NTP Datasetinden Benign ve DDoS Verisi Hazırlama"
   ]
  },
  {
   "cell_type": "code",
   "execution_count": 20,
   "id": "d8c5afdb",
   "metadata": {},
   "outputs": [
    {
     "name": "stdout",
     "output_type": "stream",
     "text": [
      "length of unique seconds: 3458\n"
     ]
    }
   ],
   "source": [
    "ntp_by_time = parse_df_to_time(dataset_dict[\"ntp\"])\n",
    "ntp_by_time = prepare_timed_df(ntp_by_time, dataset_dict[\"ntp\"])\n",
    "del dataset_dict[\"ntp\"]"
   ]
  },
  {
   "cell_type": "code",
   "execution_count": 21,
   "id": "5b3cd4fe",
   "metadata": {},
   "outputs": [],
   "source": [
    "ntp_benign = ntp_by_time[ntp_by_time[\"Label\"] == 0].groupby(\"Date_Second\").sum(numeric_only=True).reset_index(drop=False)\n",
    "save_data_frame(\"ntp_benign\", ntp_benign)"
   ]
  },
  {
   "cell_type": "code",
   "execution_count": 22,
   "id": "0e070427",
   "metadata": {},
   "outputs": [],
   "source": [
    "grouped_ntp_df = prepare_ddos_data(ntp_by_time)\n",
    "del ntp_by_time\n",
    "save_data_frame(\"ntp_ddos\", grouped_ntp_df)"
   ]
  },
  {
   "cell_type": "code",
   "execution_count": null,
   "id": "ed8a35fc",
   "metadata": {},
   "outputs": [],
   "source": []
  },
  {
   "cell_type": "markdown",
   "id": "db30e56b",
   "metadata": {},
   "source": [
    "#### UDP LAG Veriseti"
   ]
  },
  {
   "cell_type": "code",
   "execution_count": 23,
   "id": "c7686f11",
   "metadata": {},
   "outputs": [
    {
     "name": "stdout",
     "output_type": "stream",
     "text": [
      "Dataset is loaded in 0.3398153999999991 seconds\n"
     ]
    }
   ],
   "source": [
    "udp_lag_path = \"../verisetleri/udp_lag.pkl\"\n",
    "udp_lag = upload_dataset_with_time(udp_lag_path)"
   ]
  },
  {
   "cell_type": "code",
   "execution_count": 24,
   "id": "4f2e3a43",
   "metadata": {},
   "outputs": [
    {
     "name": "stdout",
     "output_type": "stream",
     "text": [
      "length of unique seconds: 1164\n"
     ]
    }
   ],
   "source": [
    "udp_lag_by_time = parse_df_to_time(udp_lag)\n",
    "udp_lag_by_time = prepare_timed_df(udp_lag_by_time, udp_lag)\n",
    "del udp_lag"
   ]
  },
  {
   "cell_type": "code",
   "execution_count": 25,
   "id": "584017aa",
   "metadata": {},
   "outputs": [],
   "source": [
    "grouped_udp_lag_df = prepare_ddos_data(udp_lag_by_time)\n",
    "save_data_frame(\"udp_lag_ddos\", grouped_udp_lag_df)"
   ]
  },
  {
   "cell_type": "code",
   "execution_count": 26,
   "id": "6bf70586",
   "metadata": {},
   "outputs": [],
   "source": [
    "udp_benign_df = udp_lag_by_time[udp_lag_by_time[\"Label\"] == 0].groupby(\"Date_Second\").sum(numeric_only=True).reset_index(drop=False)"
   ]
  },
  {
   "cell_type": "code",
   "execution_count": 27,
   "id": "ab295a62",
   "metadata": {},
   "outputs": [],
   "source": [
    "save_data_frame(\"udp_lag_benign\", udp_benign_df)"
   ]
  },
  {
   "cell_type": "code",
   "execution_count": 28,
   "id": "b24d417f",
   "metadata": {},
   "outputs": [],
   "source": [
    "del udp_benign_df\n",
    "del grouped_udp_lag_df\n",
    "del udp_lag_by_time"
   ]
  },
  {
   "cell_type": "code",
   "execution_count": null,
   "id": "f9af4e19",
   "metadata": {},
   "outputs": [],
   "source": []
  },
  {
   "cell_type": "markdown",
   "id": "86cf9a78",
   "metadata": {},
   "source": [
    "#### LDAP Veriseti"
   ]
  },
  {
   "cell_type": "code",
   "execution_count": 29,
   "id": "377f739a",
   "metadata": {},
   "outputs": [
    {
     "name": "stdout",
     "output_type": "stream",
     "text": [
      "Dataset is loaded in 20.949982700000003 seconds\n"
     ]
    }
   ],
   "source": [
    "ldap_path = \"../verisetleri/DrDoS_LDAP.csv\"\n",
    "ldap_df = upload_dataset_with_time(ldap_path)"
   ]
  },
  {
   "cell_type": "code",
   "execution_count": 30,
   "id": "9d214996",
   "metadata": {},
   "outputs": [
    {
     "name": "stdout",
     "output_type": "stream",
     "text": [
      "length of unique seconds: 593\n"
     ]
    }
   ],
   "source": [
    "ldap_df_by_time = parse_df_to_time(ldap_df)\n",
    "ldap_df_by_time = prepare_timed_df(ldap_df_by_time, ldap_df)\n",
    "del ldap_df"
   ]
  },
  {
   "cell_type": "code",
   "execution_count": 31,
   "id": "bf1d7d5b",
   "metadata": {},
   "outputs": [],
   "source": [
    "grouped_ldap_df = prepare_ddos_data(ldap_df_by_time)\n",
    "save_data_frame(\"ldap_ddos\", grouped_ldap_df)"
   ]
  },
  {
   "cell_type": "code",
   "execution_count": 32,
   "id": "cd29db76",
   "metadata": {},
   "outputs": [],
   "source": [
    "ldap_benign = ldap_df_by_time[ldap_df_by_time[\"Label\"] == 0].groupby(\"Date_Second\").sum(numeric_only=True).reset_index(drop=False)"
   ]
  },
  {
   "cell_type": "code",
   "execution_count": 33,
   "id": "f3bae1f5",
   "metadata": {},
   "outputs": [],
   "source": [
    "save_data_frame(\"ldap_benign\", ldap_benign)"
   ]
  },
  {
   "cell_type": "code",
   "execution_count": 34,
   "id": "fbffb867",
   "metadata": {},
   "outputs": [],
   "source": [
    "del ldap_benign\n",
    "del grouped_ldap_df\n",
    "del ldap_df_by_time"
   ]
  },
  {
   "cell_type": "code",
   "execution_count": null,
   "id": "cb978411",
   "metadata": {},
   "outputs": [],
   "source": []
  }
 ],
 "metadata": {
  "kernelspec": {
   "display_name": "Python 3 (ipykernel)",
   "language": "python",
   "name": "python3"
  },
  "language_info": {
   "codemirror_mode": {
    "name": "ipython",
    "version": 3
   },
   "file_extension": ".py",
   "mimetype": "text/x-python",
   "name": "python",
   "nbconvert_exporter": "python",
   "pygments_lexer": "ipython3",
   "version": "3.9.15"
  },
  "vscode": {
   "interpreter": {
    "hash": "b90529615fcaa921901e46b456569a0723afb87e1dd1e96f04931eaf6c535369"
   }
  }
 },
 "nbformat": 4,
 "nbformat_minor": 5
}
