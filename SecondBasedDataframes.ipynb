{
 "cells": [
  {
   "cell_type": "code",
   "execution_count": 1,
   "id": "a5c27f26",
   "metadata": {},
   "outputs": [],
   "source": [
    "import matplotlib.pyplot as plt\n",
    "import numpy as np\n",
    "import pandas as pd\n",
    "import matrixprofile as mp\n",
    "import random\n",
    "import time\n",
    "import os\n",
    "from matplotlib.patches import Rectangle\n",
    "from collections import Counter\n",
    "import math\n"
   ]
  },
  {
   "cell_type": "code",
   "execution_count": 2,
   "id": "1e24807f",
   "metadata": {},
   "outputs": [],
   "source": [
    "data_paths = {  'ntp' : '../verisetleri/ntp.pkl',\n",
    "                'udp' : '../verisetleri/udp.pkl',\n",
    "                'syn' : '../verisetleri/syn.pkl',}\n",
    "\n",
    "dataset_dict = {    'ntp' : None, 'udp' : None,\n",
    "                    'syn' : None}"
   ]
  },
  {
   "cell_type": "code",
   "execution_count": 3,
   "id": "b2c0d5fa",
   "metadata": {},
   "outputs": [],
   "source": [
    "def upload_dataset_with_time(path:str):\n",
    "    startingT = time.perf_counter()\n",
    "    if 'pkl' in path:\n",
    "        veriseti = pd.read_pickle(path)\n",
    "    else:\n",
    "        veriseti = pd.read_csv(path, low_memory=False)\n",
    "    endingT = time.perf_counter()\n",
    "    print(f\"Dataset is loaded in {endingT - startingT} seconds\")\n",
    "    return veriseti"
   ]
  },
  {
   "cell_type": "code",
   "execution_count": 4,
   "id": "84a3fa8c",
   "metadata": {},
   "outputs": [
    {
     "name": "stdout",
     "output_type": "stream",
     "text": [
      "Dataset is loaded in 0.9758282000000005 seconds\n",
      "Dataset is loaded in 2.4845757999999982 seconds\n",
      "Dataset is loaded in 1.0190139999999985 seconds\n"
     ]
    }
   ],
   "source": [
    "for data_name, path in data_paths.items():\n",
    "    data = upload_dataset_with_time(path)\n",
    "    dataset_dict[data_name] = data"
   ]
  },
  {
   "cell_type": "code",
   "execution_count": 5,
   "id": "89b75a5e",
   "metadata": {},
   "outputs": [
    {
     "data": {
      "text/plain": [
       "Counter({'Syn': 1582289, 'BENIGN': 392})"
      ]
     },
     "execution_count": 5,
     "metadata": {},
     "output_type": "execute_result"
    }
   ],
   "source": [
    "Counter(dataset_dict[\"syn\"][\" Label\"])"
   ]
  },
  {
   "cell_type": "code",
   "execution_count": 6,
   "id": "581bcd3d",
   "metadata": {},
   "outputs": [
    {
     "data": {
      "text/plain": [
       "Counter({'DrDoS_NTP': 1202642, 'BENIGN': 14365})"
      ]
     },
     "execution_count": 6,
     "metadata": {},
     "output_type": "execute_result"
    }
   ],
   "source": [
    "Counter(dataset_dict[\"ntp\"][\" Label\"])"
   ]
  },
  {
   "cell_type": "code",
   "execution_count": 7,
   "id": "72c97e9a",
   "metadata": {},
   "outputs": [
    {
     "data": {
      "text/plain": [
       "Counter({'DrDoS_UDP': 3134645, 'BENIGN': 2157})"
      ]
     },
     "execution_count": 7,
     "metadata": {},
     "output_type": "execute_result"
    }
   ],
   "source": [
    "Counter(dataset_dict[\"udp\"][\" Label\"])"
   ]
  },
  {
   "cell_type": "code",
   "execution_count": null,
   "id": "0062a964",
   "metadata": {},
   "outputs": [],
   "source": []
  },
  {
   "cell_type": "code",
   "execution_count": 8,
   "id": "774e7c53",
   "metadata": {},
   "outputs": [],
   "source": [
    "def parse_df_to_time(df:pd.DataFrame)->pd.DataFrame:\n",
    "    time_df = pd.DataFrame()\n",
    "    time_df[\"Time_Date\"] = df[\" Timestamp\"].apply(lambda x: str(x).split(\" \")[0])\n",
    "    time_df[\"Date_Second\"] = df[\" Timestamp\"].apply(lambda x : str(x).split(\" \")[1].split(\".\")[0])\n",
    "    time_df[\"Date_Hour_Minute\"] = df[\" Timestamp\"].apply(lambda x: \":\".join(str(x).split(\" \")[1].split(\":\")[:2]))\n",
    "    \n",
    "    return time_df"
   ]
  },
  {
   "cell_type": "code",
   "execution_count": 9,
   "id": "6e974787",
   "metadata": {},
   "outputs": [],
   "source": [
    "drop_list = [ ' Fwd Header Length.1', 'Fwd Avg Bytes/Bulk',\n",
    "       ' Fwd Avg Packets/Bulk', ' Fwd Avg Bulk Rate', ' Bwd Avg Bytes/Bulk',\n",
    "       ' Bwd Avg Packets/Bulk', 'Bwd Avg Bulk Rate', 'Subflow Fwd Packets',\n",
    "       ' Subflow Fwd Bytes', ' Subflow Bwd Packets', ' Subflow Bwd Bytes',\n",
    "       'Init_Win_bytes_forward', ' Init_Win_bytes_backward',\n",
    "       ' act_data_pkt_fwd', ' min_seg_size_forward', 'Active Mean',\n",
    "       ' Active Std', ' Active Max', ' Active Min', 'Idle Mean', ' Idle Std',\n",
    "       ' Idle Max', ' Idle Min', 'SimillarHTTP', ' Inbound', 'Unnamed: 0', ' Source IP', ' Source Port',\n",
    "       ' Destination IP', ' Destination Port', ' Protocol', ' Timestamp',\n",
    "        'Flow ID', ' Label']"
   ]
  },
  {
   "cell_type": "code",
   "execution_count": 10,
   "id": "dfbbd04e",
   "metadata": {},
   "outputs": [],
   "source": [
    "def prepare_timed_df(time_df, pure_df):\n",
    "    global drop_list\n",
    "    concat_pure = pure_df.drop(drop_list, axis = 1)\n",
    "    \n",
    "    new_timed_df = pd.concat([time_df, concat_pure], axis = 1)\n",
    "    new_timed_df[\"Label\"] = pure_df[\" Label\"].apply(lambda x: 0 if x == \"BENIGN\" else 1)\n",
    "    \n",
    "    unique_seconds = set(new_timed_df[\"Date_Second\"])\n",
    "    print(f\"length of unique seconds: {len(unique_seconds)}\")\n",
    "    return new_timed_df"
   ]
  },
  {
   "cell_type": "code",
   "execution_count": 11,
   "id": "281146e2",
   "metadata": {},
   "outputs": [],
   "source": [
    "def save_data_frame(df_name:str, df:pd.DataFrame):\n",
    "    minutes = math.floor(df.shape[0] / 60)\n",
    "    data_last_index = minutes * 60\n",
    "    \n",
    "    save_df : pd.DataFrame = df.iloc[:data_last_index,:]\n",
    "    df_name = f\"{df_name}_{minutes}_minutes.csv\"\n",
    "    save_df.to_csv(f\"{df_name}\")"
   ]
  },
  {
   "cell_type": "code",
   "execution_count": 12,
   "id": "4e4c793f",
   "metadata": {},
   "outputs": [],
   "source": [
    "def prepare_ddos_data(df : pd.DataFrame):\n",
    "    df_numeric = pd.concat([df[[\"Date_Second\"]], df.select_dtypes(include='number')], axis=1)\n",
    "    df_ddos = df_numeric[df_numeric[\"Label\"] == 1].reset_index(drop=True)\n",
    "    \n",
    "    df_ddos_grouped = df_ddos.groupby(\"Date_Second\").sum().reset_index(drop=False)\n",
    "    \n",
    "    df_ddos_grouped[\"Label\"] = df_ddos_grouped[\"Label\"].apply(lambda x: 1 if x > 5 else 0)\n",
    "    df_ddos_grouped = df_ddos_grouped[df_ddos_grouped[\"Label\"] == 1]\n",
    "    \n",
    "    return df_ddos_grouped"
   ]
  },
  {
   "cell_type": "markdown",
   "id": "96cf2fa0",
   "metadata": {},
   "source": [
    "### 1. SYN Datasetinden DDoS Verisi Hazırlama"
   ]
  },
  {
   "cell_type": "code",
   "execution_count": 14,
   "id": "0ed4733a",
   "metadata": {},
   "outputs": [
    {
     "name": "stdout",
     "output_type": "stream",
     "text": [
      "length of unique seconds: 238\n"
     ]
    }
   ],
   "source": [
    "syn_by_time = parse_df_to_time(dataset_dict[\"syn\"])\n",
    "syn_by_time = prepare_timed_df(syn_by_time, dataset_dict[\"syn\"])\n",
    "del dataset_dict[\"syn\"]"
   ]
  },
  {
   "cell_type": "code",
   "execution_count": 15,
   "id": "730e3caf",
   "metadata": {},
   "outputs": [],
   "source": [
    "grouped_syn_df = prepare_ddos_data(syn_by_time)\n",
    "del syn_by_time\n",
    "save_data_frame(\"syn_ddos\", grouped_syn_df)"
   ]
  },
  {
   "cell_type": "markdown",
   "id": "ade0524f",
   "metadata": {},
   "source": [
    "### 2.UDP Datasetinden DDoS Verisi Hazırlama"
   ]
  },
  {
   "cell_type": "code",
   "execution_count": 17,
   "id": "0738432f",
   "metadata": {},
   "outputs": [
    {
     "name": "stdout",
     "output_type": "stream",
     "text": [
      "length of unique seconds: 1521\n"
     ]
    }
   ],
   "source": [
    "udp_by_time = parse_df_to_time(dataset_dict[\"udp\"])\n",
    "#out of memory sebebiyle 5 dk udp logu aliyoruz\n",
    "final_udp_idx = len((udp_by_time[udp_by_time[\"Date_Hour_Minute\"] < \"12:41\"][\"Date_Hour_Minute\"]))\n",
    "dataset_dict[\"udp\"] = dataset_dict[\"udp\"].iloc[:final_udp_idx+1, :]\n",
    "\n",
    "udp_by_time = prepare_timed_df(udp_by_time, dataset_dict[\"udp\"])\n",
    "del dataset_dict[\"udp\"]"
   ]
  },
  {
   "cell_type": "code",
   "execution_count": 18,
   "id": "36fcb43a",
   "metadata": {},
   "outputs": [],
   "source": [
    "grouped_udp_df = prepare_ddos_data(udp_by_time)\n",
    "del udp_by_time\n",
    "save_data_frame(\"udp_ddos\", grouped_udp_df)"
   ]
  },
  {
   "cell_type": "code",
   "execution_count": 19,
   "id": "6da63170",
   "metadata": {},
   "outputs": [],
   "source": [
    "del grouped_udp_df"
   ]
  },
  {
   "cell_type": "markdown",
   "id": "5182250c",
   "metadata": {},
   "source": [
    "### 3. NTP Datasetinden Benign ve DDoS Verisi Hazırlama"
   ]
  },
  {
   "cell_type": "code",
   "execution_count": 20,
   "id": "d8c5afdb",
   "metadata": {},
   "outputs": [
    {
     "name": "stdout",
     "output_type": "stream",
     "text": [
      "length of unique seconds: 3458\n"
     ]
    }
   ],
   "source": [
    "ntp_by_time = parse_df_to_time(dataset_dict[\"ntp\"])\n",
    "ntp_by_time = prepare_timed_df(ntp_by_time, dataset_dict[\"ntp\"])\n",
    "del dataset_dict[\"ntp\"]"
   ]
  },
  {
   "cell_type": "code",
   "execution_count": 21,
   "id": "e73fa673",
   "metadata": {},
   "outputs": [],
   "source": [
    "# sort most sampled seconds from benign data.\n",
    "benign_seconds_ntp = sorted(Counter(ntp_by_time[ntp_by_time[\"Label\"] == 0][\"Date_Second\"]).items(),\n",
    "                            key=lambda x: x[1], reverse=True)[:10]\n",
    "\n",
    "#select most sampled 10 seconds from dataset.\n",
    "benign_ntp_list = [elem[0] for elem in benign_seconds_ntp]\n",
    "benign_ntp = ntp_by_time[ntp_by_time[\"Date_Second\"].apply(lambda x: True if x in benign_ntp_list else False)].reset_index(drop=True)\n",
    "\n",
    "#select only numeric types\n",
    "b_ntp_df = pd.concat([benign_ntp[[\"Date_Second\"]], benign_ntp.select_dtypes(include='number')], axis=1)\n",
    "\n",
    "#group by sum\n",
    "benign_ntp_df = b_ntp_df.groupby(\"Date_Second\").sum().reset_index(drop=False)\n",
    "\n",
    "#prepare 10 minutes df\n",
    "benign_df = pd.DataFrame()\n",
    "for idx in range(0,(int(60/len(benign_ntp_df)))*10): # ten minutes\n",
    "    benign_df = pd.concat(objs=[benign_df, benign_ntp_df], axis = 0).reset_index(drop=True)\n",
    "    \n",
    "#benign_df.to_csv('benign_ntp_10_min_df')\n",
    "\n",
    "save_data_frame(\"ntp_benign\", benign_df)"
   ]
  },
  {
   "cell_type": "code",
   "execution_count": 22,
   "id": "0e070427",
   "metadata": {},
   "outputs": [],
   "source": [
    "grouped_ntp_df = prepare_ddos_data(ntp_by_time)\n",
    "del ntp_by_time\n",
    "save_data_frame(\"ntp_ddos\", grouped_ntp_df)"
   ]
  },
  {
   "cell_type": "code",
   "execution_count": null,
   "id": "ed8a35fc",
   "metadata": {},
   "outputs": [],
   "source": []
  },
  {
   "cell_type": "code",
   "execution_count": null,
   "id": "18077caf",
   "metadata": {},
   "outputs": [],
   "source": []
  }
 ],
 "metadata": {
  "kernelspec": {
   "display_name": "Python 3 (ipykernel)",
   "language": "python",
   "name": "python3"
  },
  "language_info": {
   "codemirror_mode": {
    "name": "ipython",
    "version": 3
   },
   "file_extension": ".py",
   "mimetype": "text/x-python",
   "name": "python",
   "nbconvert_exporter": "python",
   "pygments_lexer": "ipython3",
   "version": "3.9.15"
  },
  "vscode": {
   "interpreter": {
    "hash": "b90529615fcaa921901e46b456569a0723afb87e1dd1e96f04931eaf6c535369"
   }
  }
 },
 "nbformat": 4,
 "nbformat_minor": 5
}
