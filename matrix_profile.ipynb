{
 "cells": [
  {
   "cell_type": "code",
   "execution_count": 1,
   "id": "db7a3f9c",
   "metadata": {},
   "outputs": [],
   "source": [
    "import matplotlib.pyplot as plt\n",
    "import numpy as np\n",
    "import pandas as pd\n",
    "import matrixprofile as mp\n",
    "import random\n",
    "import time\n",
    "import matrix_profile_utils"
   ]
  },
  {
   "cell_type": "code",
   "execution_count": 24,
   "id": "1e3afcf7",
   "metadata": {},
   "outputs": [],
   "source": [
    "def select_samples_from_dataset(dataset : pd.DataFrame , samples : list):\n",
    "    if (dataset.empty):\n",
    "        raise ValueError(\"Dataset is None!\")\n",
    "\n",
    "    if (samples == None):\n",
    "        raise ValueError(\"sample list is None\")\n",
    "\n",
    "    sampled_data = list()\n",
    "    for point in samples:\n",
    "        sampled_data.append(dataset.iloc[point, :])\n",
    "\n",
    "    return pd.DataFrame(sampled_data).reset_index()"
   ]
  },
  {
   "cell_type": "code",
   "execution_count": 19,
   "id": "9974553b",
   "metadata": {},
   "outputs": [],
   "source": [
    "def concat_datasets(dataset1: pd.DataFrame, dataset2 : pd.DataFrame,*, axis = 0):\n",
    "    if(dataset1 == None or dataset2 == None):\n",
    "        raise ValueError(\"datasets can not be null\")\n",
    "    \n",
    "    if(all(dataset1.columns == dataset2.columns)):\n",
    "        return pd.concat([dataset1, dataset2], axis = axis)\n",
    "    else:\n",
    "        raise ValueError(\"dataset columns must be identical\")"
   ]
  },
  {
   "cell_type": "code",
   "execution_count": 2,
   "id": "67a5f210",
   "metadata": {},
   "outputs": [],
   "source": [
    "datasetSyn = pd.read_csv('../verisetleri/01-12/Syn.csv', low_memory=False)"
   ]
  },
  {
   "cell_type": "code",
   "execution_count": 59,
   "id": "4134c070",
   "metadata": {},
   "outputs": [],
   "source": [
    "datasetMonday = pd.read_csv('../verisetleri/Monday-WorkingHours.pcap_ISCX.csv')"
   ]
  },
  {
   "cell_type": "code",
   "execution_count": 246,
   "id": "3bcd8898",
   "metadata": {},
   "outputs": [
    {
     "data": {
      "text/plain": [
       "15921.816833694655"
      ]
     },
     "execution_count": 246,
     "metadata": {},
     "output_type": "execute_result"
    }
   ],
   "source": [
    "datasetSyn[datasetSyn[\" Label\"] == \"BENIGN\"][\" Fwd Packet Length Std\"].sum()"
   ]
  },
  {
   "cell_type": "code",
   "execution_count": 247,
   "id": "b5506b96",
   "metadata": {},
   "outputs": [
    {
     "data": {
      "text/plain": [
       "5541.387661631471"
      ]
     },
     "execution_count": 247,
     "metadata": {},
     "output_type": "execute_result"
    }
   ],
   "source": [
    "datasetSyn[datasetSyn[\" Label\"] == \"Syn\"][\" Fwd Packet Length Std\"].sum()"
   ]
  },
  {
   "cell_type": "code",
   "execution_count": 251,
   "id": "4e95daf0",
   "metadata": {},
   "outputs": [
    {
     "data": {
      "text/plain": [
       "1582.681"
      ]
     },
     "execution_count": 251,
     "metadata": {},
     "output_type": "execute_result"
    }
   ],
   "source": [
    "len(datasetSyn) / 10**3"
   ]
  },
  {
   "cell_type": "code",
   "execution_count": 3,
   "id": "ff5d3e52",
   "metadata": {},
   "outputs": [
    {
     "name": "stdout",
     "output_type": "stream",
     "text": [
      "Number of packets : 1582681\n",
      "Number of attacks : 1582289\n",
      "Number of benign  : 392\n",
      "Attack Ratio: 0.9997523190080629 \n",
      " Benign Rati0 : 0.0002476809919370604\n"
     ]
    }
   ],
   "source": [
    "matrix_profile_utils.summary_of_data(datasetSyn)"
   ]
  },
  {
   "cell_type": "code",
   "execution_count": 115,
   "id": "ca8877f1",
   "metadata": {},
   "outputs": [],
   "source": [
    "newDataset = pd.DataFrame()\n",
    "newDataset[\"year\"] = pd.to_datetime(datasetSyn[\" Timestamp\"]).dt.year\n",
    "newDataset[\"month\"] = pd.to_datetime(datasetSyn[\" Timestamp\"]).dt.month\n",
    "newDataset[\"day\"] = pd.to_datetime(datasetSyn[\" Timestamp\"]).dt.day\n",
    "newDataset[\"hour\"] = pd.to_datetime(datasetSyn[\" Timestamp\"]).dt.hour\n",
    "newDataset[\"minute\"] = pd.to_datetime(datasetSyn[\" Timestamp\"]).dt.minute\n",
    "newDataset[\"second\"] = pd.to_datetime(datasetSyn[\" Timestamp\"]).dt.second\n",
    "newDataset[\"microsecond\"] = pd.to_datetime(datasetSyn[\" Timestamp\"]).dt.microsecond"
   ]
  },
  {
   "cell_type": "code",
   "execution_count": 129,
   "id": "a96a7e13",
   "metadata": {},
   "outputs": [],
   "source": [
    "newDataset[\"timestamp\"] = newDataset[\"hour\"].astype(str) + \"-\" + newDataset[\"minute\"].astype(str) + \"-\" +newDataset[\"second\"].astype(str)\n",
    "    \n",
    "    \n",
    "    "
   ]
  },
  {
   "cell_type": "code",
   "execution_count": 252,
   "id": "e32ee84d",
   "metadata": {},
   "outputs": [
    {
     "data": {
      "text/html": [
       "<div>\n",
       "<style scoped>\n",
       "    .dataframe tbody tr th:only-of-type {\n",
       "        vertical-align: middle;\n",
       "    }\n",
       "\n",
       "    .dataframe tbody tr th {\n",
       "        vertical-align: top;\n",
       "    }\n",
       "\n",
       "    .dataframe thead th {\n",
       "        text-align: right;\n",
       "    }\n",
       "</style>\n",
       "<table border=\"1\" class=\"dataframe\">\n",
       "  <thead>\n",
       "    <tr style=\"text-align: right;\">\n",
       "      <th></th>\n",
       "      <th>year</th>\n",
       "      <th>month</th>\n",
       "      <th>day</th>\n",
       "      <th>hour</th>\n",
       "      <th>minute</th>\n",
       "      <th>second</th>\n",
       "      <th>microsecond</th>\n",
       "      <th>timestamp</th>\n",
       "    </tr>\n",
       "  </thead>\n",
       "  <tbody>\n",
       "    <tr>\n",
       "      <th>0</th>\n",
       "      <td>2018</td>\n",
       "      <td>12</td>\n",
       "      <td>1</td>\n",
       "      <td>13</td>\n",
       "      <td>30</td>\n",
       "      <td>30</td>\n",
       "      <td>741451</td>\n",
       "      <td>13-30-30</td>\n",
       "    </tr>\n",
       "    <tr>\n",
       "      <th>1</th>\n",
       "      <td>2018</td>\n",
       "      <td>12</td>\n",
       "      <td>1</td>\n",
       "      <td>13</td>\n",
       "      <td>30</td>\n",
       "      <td>30</td>\n",
       "      <td>741452</td>\n",
       "      <td>13-30-30</td>\n",
       "    </tr>\n",
       "    <tr>\n",
       "      <th>2</th>\n",
       "      <td>2018</td>\n",
       "      <td>12</td>\n",
       "      <td>1</td>\n",
       "      <td>13</td>\n",
       "      <td>30</td>\n",
       "      <td>30</td>\n",
       "      <td>741501</td>\n",
       "      <td>13-30-30</td>\n",
       "    </tr>\n",
       "    <tr>\n",
       "      <th>3</th>\n",
       "      <td>2018</td>\n",
       "      <td>12</td>\n",
       "      <td>1</td>\n",
       "      <td>13</td>\n",
       "      <td>30</td>\n",
       "      <td>30</td>\n",
       "      <td>741563</td>\n",
       "      <td>13-30-30</td>\n",
       "    </tr>\n",
       "    <tr>\n",
       "      <th>4</th>\n",
       "      <td>2018</td>\n",
       "      <td>12</td>\n",
       "      <td>1</td>\n",
       "      <td>13</td>\n",
       "      <td>30</td>\n",
       "      <td>30</td>\n",
       "      <td>741565</td>\n",
       "      <td>13-30-30</td>\n",
       "    </tr>\n",
       "    <tr>\n",
       "      <th>...</th>\n",
       "      <td>...</td>\n",
       "      <td>...</td>\n",
       "      <td>...</td>\n",
       "      <td>...</td>\n",
       "      <td>...</td>\n",
       "      <td>...</td>\n",
       "      <td>...</td>\n",
       "      <td>...</td>\n",
       "    </tr>\n",
       "    <tr>\n",
       "      <th>1582676</th>\n",
       "      <td>2018</td>\n",
       "      <td>12</td>\n",
       "      <td>1</td>\n",
       "      <td>13</td>\n",
       "      <td>34</td>\n",
       "      <td>27</td>\n",
       "      <td>402384</td>\n",
       "      <td>13-34-27</td>\n",
       "    </tr>\n",
       "    <tr>\n",
       "      <th>1582677</th>\n",
       "      <td>2018</td>\n",
       "      <td>12</td>\n",
       "      <td>1</td>\n",
       "      <td>13</td>\n",
       "      <td>34</td>\n",
       "      <td>27</td>\n",
       "      <td>402386</td>\n",
       "      <td>13-34-27</td>\n",
       "    </tr>\n",
       "    <tr>\n",
       "      <th>1582678</th>\n",
       "      <td>2018</td>\n",
       "      <td>12</td>\n",
       "      <td>1</td>\n",
       "      <td>13</td>\n",
       "      <td>34</td>\n",
       "      <td>27</td>\n",
       "      <td>402451</td>\n",
       "      <td>13-34-27</td>\n",
       "    </tr>\n",
       "    <tr>\n",
       "      <th>1582679</th>\n",
       "      <td>2018</td>\n",
       "      <td>12</td>\n",
       "      <td>1</td>\n",
       "      <td>13</td>\n",
       "      <td>34</td>\n",
       "      <td>27</td>\n",
       "      <td>403142</td>\n",
       "      <td>13-34-27</td>\n",
       "    </tr>\n",
       "    <tr>\n",
       "      <th>1582680</th>\n",
       "      <td>2018</td>\n",
       "      <td>12</td>\n",
       "      <td>1</td>\n",
       "      <td>13</td>\n",
       "      <td>34</td>\n",
       "      <td>27</td>\n",
       "      <td>403143</td>\n",
       "      <td>13-34-27</td>\n",
       "    </tr>\n",
       "  </tbody>\n",
       "</table>\n",
       "<p>1582681 rows × 8 columns</p>\n",
       "</div>"
      ],
      "text/plain": [
       "         year  month  day  hour  minute  second microsecond timestamp\n",
       "0        2018     12    1    13      30      30      741451  13-30-30\n",
       "1        2018     12    1    13      30      30      741452  13-30-30\n",
       "2        2018     12    1    13      30      30      741501  13-30-30\n",
       "3        2018     12    1    13      30      30      741563  13-30-30\n",
       "4        2018     12    1    13      30      30      741565  13-30-30\n",
       "...       ...    ...  ...   ...     ...     ...         ...       ...\n",
       "1582676  2018     12    1    13      34      27      402384  13-34-27\n",
       "1582677  2018     12    1    13      34      27      402386  13-34-27\n",
       "1582678  2018     12    1    13      34      27      402451  13-34-27\n",
       "1582679  2018     12    1    13      34      27      403142  13-34-27\n",
       "1582680  2018     12    1    13      34      27      403143  13-34-27\n",
       "\n",
       "[1582681 rows x 8 columns]"
      ]
     },
     "execution_count": 252,
     "metadata": {},
     "output_type": "execute_result"
    }
   ],
   "source": [
    "newDataset"
   ]
  },
  {
   "cell_type": "code",
   "execution_count": 208,
   "id": "25e52300",
   "metadata": {},
   "outputs": [],
   "source": [
    "BwdPacketLength = pd.DataFrame(datasetSyn[\" Fwd Packet Length Std\"])"
   ]
  },
  {
   "cell_type": "code",
   "execution_count": 209,
   "id": "f9489df2",
   "metadata": {},
   "outputs": [],
   "source": [
    "Labels = pd.DataFrame(datasetSyn[\" Label\"])"
   ]
  },
  {
   "cell_type": "code",
   "execution_count": 168,
   "id": "ad790c47",
   "metadata": {},
   "outputs": [],
   "source": [
    "label_list = list()\n",
    "for i, elem in Labels.iterrows():\n",
    "    if (elem[\" Label\"] == \"Syn\"):\n",
    "        label_list.append(1)\n",
    "    else:\n",
    "        label_list.append(0)"
   ]
  },
  {
   "cell_type": "code",
   "execution_count": 169,
   "id": "172889df",
   "metadata": {},
   "outputs": [],
   "source": [
    "labelDf = pd.DataFrame(label_list, columns=[\" Label\"])"
   ]
  },
  {
   "cell_type": "code",
   "execution_count": 210,
   "id": "d363473b",
   "metadata": {},
   "outputs": [],
   "source": [
    "ddddd = pd.concat([newDataset, BwdPacketLength, labelDf], axis = 1)"
   ]
  },
  {
   "cell_type": "code",
   "execution_count": 213,
   "id": "b9465045",
   "metadata": {},
   "outputs": [],
   "source": [
    "data =ddddd[[\"timestamp\", \" Fwd Packet Length Std\", \" Label\"]]"
   ]
  },
  {
   "cell_type": "code",
   "execution_count": 214,
   "id": "69ca56e6",
   "metadata": {},
   "outputs": [],
   "source": [
    "mydata = data.groupby(by=\"timestamp\").sum()"
   ]
  },
  {
   "cell_type": "code",
   "execution_count": 215,
   "id": "89d23693",
   "metadata": {},
   "outputs": [
    {
     "data": {
      "text/html": [
       "<div>\n",
       "<style scoped>\n",
       "    .dataframe tbody tr th:only-of-type {\n",
       "        vertical-align: middle;\n",
       "    }\n",
       "\n",
       "    .dataframe tbody tr th {\n",
       "        vertical-align: top;\n",
       "    }\n",
       "\n",
       "    .dataframe thead th {\n",
       "        text-align: right;\n",
       "    }\n",
       "</style>\n",
       "<table border=\"1\" class=\"dataframe\">\n",
       "  <thead>\n",
       "    <tr style=\"text-align: right;\">\n",
       "      <th></th>\n",
       "      <th>Fwd Packet Length Std</th>\n",
       "      <th>Label</th>\n",
       "    </tr>\n",
       "  </thead>\n",
       "  <tbody>\n",
       "    <tr>\n",
       "      <th>count</th>\n",
       "      <td>238.000000</td>\n",
       "      <td>238.000000</td>\n",
       "    </tr>\n",
       "    <tr>\n",
       "      <th>mean</th>\n",
       "      <td>90.181531</td>\n",
       "      <td>6648.273109</td>\n",
       "    </tr>\n",
       "    <tr>\n",
       "      <th>std</th>\n",
       "      <td>324.378823</td>\n",
       "      <td>1056.507744</td>\n",
       "    </tr>\n",
       "    <tr>\n",
       "      <th>min</th>\n",
       "      <td>0.000000</td>\n",
       "      <td>2564.000000</td>\n",
       "    </tr>\n",
       "    <tr>\n",
       "      <th>25%</th>\n",
       "      <td>0.000000</td>\n",
       "      <td>6056.000000</td>\n",
       "    </tr>\n",
       "    <tr>\n",
       "      <th>50%</th>\n",
       "      <td>0.000000</td>\n",
       "      <td>6419.500000</td>\n",
       "    </tr>\n",
       "    <tr>\n",
       "      <th>75%</th>\n",
       "      <td>28.438120</td>\n",
       "      <td>6678.000000</td>\n",
       "    </tr>\n",
       "    <tr>\n",
       "      <th>max</th>\n",
       "      <td>2840.109494</td>\n",
       "      <td>9795.000000</td>\n",
       "    </tr>\n",
       "  </tbody>\n",
       "</table>\n",
       "</div>"
      ],
      "text/plain": [
       "        Fwd Packet Length Std        Label\n",
       "count              238.000000   238.000000\n",
       "mean                90.181531  6648.273109\n",
       "std                324.378823  1056.507744\n",
       "min                  0.000000  2564.000000\n",
       "25%                  0.000000  6056.000000\n",
       "50%                  0.000000  6419.500000\n",
       "75%                 28.438120  6678.000000\n",
       "max               2840.109494  9795.000000"
      ]
     },
     "execution_count": 215,
     "metadata": {},
     "output_type": "execute_result"
    }
   ],
   "source": [
    "mydata.describe()"
   ]
  },
  {
   "cell_type": "code",
   "execution_count": 224,
   "id": "1267be15",
   "metadata": {},
   "outputs": [
    {
     "name": "stdout",
     "output_type": "stream",
     "text": [
      "matrix profile calculation takes 0.009747982025146484 seconds\n"
     ]
    }
   ],
   "source": [
    "startingTime = time.time()\n",
    "someFeatureForTimeseries = mydata[\" Fwd Packet Length Std\"]\n",
    "window_size = 12\n",
    "\n",
    "matrix_profile = mp.compute(someFeatureForTimeseries.to_list(), windows=window_size, threshold=0.95, n_jobs=4)\n",
    "discords_profile = mp.discover.discords(matrix_profile, k = 10)\n",
    "endingTime = time.time()\n",
    "\n",
    "print(f\"matrix profile calculation takes {endingTime - startingTime} seconds\")"
   ]
  },
  {
   "cell_type": "code",
   "execution_count": 223,
   "id": "13fdf1a3",
   "metadata": {},
   "outputs": [
    {
     "data": {
      "text/plain": [
       " Fwd Packet Length Std       0.0\n",
       " Label                    6561.0\n",
       "Name: 13-33-54, dtype: float64"
      ]
     },
     "execution_count": 223,
     "metadata": {},
     "output_type": "execute_result"
    }
   ],
   "source": [
    "mydata.iloc[200,:]"
   ]
  },
  {
   "cell_type": "code",
   "execution_count": 227,
   "id": "6511eb92",
   "metadata": {},
   "outputs": [],
   "source": [
    "mp = discords_profile[\"mp\"]"
   ]
  },
  {
   "cell_type": "code",
   "execution_count": 225,
   "id": "9edba208",
   "metadata": {},
   "outputs": [
    {
     "data": {
      "text/plain": [
       "{'mp': array([2.32513729, 2.10229187, 2.11509743, 2.21012857, 1.41040835,\n",
       "        1.39685911, 2.56908923, 2.54409933, 1.38766618, 0.        ,\n",
       "        0.        , 0.        , 0.        , 0.        , 0.55418813,\n",
       "        0.        , 0.        , 1.22650214, 1.22372016, 1.65047122,\n",
       "        1.65339571, 0.        , 0.        , 0.        , 0.        ,\n",
       "        0.        , 0.        , 0.        , 0.73884856, 0.78860062,\n",
       "        0.81322561, 0.62433516, 0.        , 0.        , 0.        ,\n",
       "        0.8210586 , 0.82514899, 0.8381647 , 0.8431848 , 0.48523217,\n",
       "        0.        , 0.        , 0.        , 0.        , 0.        ,\n",
       "        0.        , 0.        , 0.        , 0.        , 0.        ,\n",
       "        0.        , 0.        , 0.        , 0.        , 0.        ,\n",
       "        0.        , 0.        , 0.        , 0.        , 0.        ,\n",
       "        0.        , 0.        , 0.        , 0.        , 0.        ,\n",
       "        0.        , 0.        , 0.        , 0.        , 0.        ,\n",
       "        0.        , 0.        , 0.        , 0.        , 0.        ,\n",
       "        0.        , 0.        , 0.        , 0.        , 0.        ,\n",
       "        0.        , 0.        , 0.        , 0.        , 0.        ,\n",
       "        0.        , 0.        , 0.        , 0.        , 0.        ,\n",
       "        0.        , 0.        , 0.        , 0.        , 0.        ,\n",
       "        0.        , 0.        , 0.        , 0.        , 0.        ,\n",
       "        0.        , 0.        , 0.        , 0.        , 0.        ,\n",
       "        0.        , 0.        , 0.        , 0.        , 0.        ,\n",
       "        0.        , 0.        , 0.        , 0.        , 0.        ,\n",
       "        0.        , 0.        , 0.        , 0.        , 0.        ,\n",
       "        0.        , 0.        , 0.        , 0.        , 0.        ,\n",
       "        0.        , 0.        , 0.        , 0.        , 0.        ,\n",
       "        0.        , 0.        , 0.        , 0.        , 0.        ,\n",
       "        0.        , 0.        , 0.        , 0.        , 0.        ,\n",
       "        0.        , 0.        , 0.        , 0.        , 0.        ,\n",
       "        0.        , 0.        , 0.        , 0.        , 0.        ,\n",
       "        0.        , 0.        , 0.        , 0.        , 0.        ,\n",
       "        0.        , 0.        , 0.        , 0.        , 0.        ,\n",
       "        0.        , 0.        , 0.        , 0.        , 0.        ,\n",
       "        0.        , 0.        , 0.        , 0.        , 0.        ,\n",
       "        0.        , 0.        , 0.        , 0.        , 0.        ,\n",
       "        0.        , 0.        , 0.        , 0.        , 0.        ,\n",
       "        0.        , 0.        , 0.        , 0.        , 0.        ,\n",
       "        0.        , 0.        , 0.        , 0.        , 0.        ,\n",
       "        0.        , 0.        , 0.        , 0.        , 0.        ,\n",
       "        0.        , 0.        , 0.        , 0.        , 0.        ,\n",
       "        0.        , 0.        , 0.        , 0.        , 0.        ,\n",
       "        0.        , 0.        , 0.        , 0.        , 0.        ,\n",
       "        0.        , 0.        , 0.        , 0.        , 0.        ,\n",
       "        0.        , 0.        , 0.        , 0.        , 0.        ,\n",
       "        0.        , 0.        , 0.        , 0.        , 0.        ,\n",
       "        0.        , 0.        ]),\n",
       " 'pi': array([178, 179, 180, 167, 168, 169, 170, 171, 125, 157, 158, 157, 158,\n",
       "        159, 140, 186, 187, 165, 166, 162, 163, 157, 158, 159, 157, 157,\n",
       "        158, 159, 213, 196, 215,  15, 157, 158, 159, 220, 182, 137, 212,\n",
       "         97, 159, 186, 186, 186, 187, 188, 189, 190, 189, 186, 186, 187,\n",
       "        186, 187, 188, 189, 190, 189, 190, 188, 189, 186, 187, 188, 189,\n",
       "        190, 187, 188, 189, 190, 189, 190, 190, 158, 186, 186, 187, 188,\n",
       "        189, 190, 186, 187, 188, 186, 187, 188, 189, 157, 158, 159, 188,\n",
       "        189, 190, 189, 190, 189, 157, 157, 158, 159, 187, 188, 189, 190,\n",
       "        190, 190, 186, 187, 188, 189, 190, 190, 186, 187, 188, 189, 186,\n",
       "        187, 188, 189, 190, 190, 186, 187, 188, 186, 186, 187, 188, 189,\n",
       "        190, 186, 187, 188, 189, 190, 189, 190, 190, 188, 189, 157, 158,\n",
       "        159, 186, 187, 188, 189, 190, 186, 187, 188, 157, 158, 159, 159,\n",
       "        185, 186, 187, 188, 189, 190, 190, 190, 190, 186, 187, 188, 189,\n",
       "        190, 186, 187, 188, 189, 190, 158, 188, 189, 190, 158, 159, 186,\n",
       "        187, 188, 189, 190, 127, 128, 129, 130, 211, 186, 187, 188, 157,\n",
       "        157, 157, 157, 158, 157, 158, 159, 157, 158, 159, 188, 157, 158,\n",
       "        157, 157, 157, 157, 157, 157, 158, 159, 157, 158, 159, 190, 159,\n",
       "        182, 158, 186, 186, 186, 186]),\n",
       " 'rmp': None,\n",
       " 'rpi': None,\n",
       " 'lmp': None,\n",
       " 'lpi': None,\n",
       " 'metric': 'euclidean',\n",
       " 'w': 12,\n",
       " 'ez': 0,\n",
       " 'join': False,\n",
       " 'sample_pct': 1,\n",
       " 'data': {'ts': array([   0.        ,   18.10932667,   18.10932667,  181.26265558,\n",
       "           30.29351911,    0.        ,   21.97365915,  243.62752914,\n",
       "          111.82562173,    0.        ,    0.        ,    0.        ,\n",
       "          154.58805303,    0.        ,  233.30461638,   10.16782255,\n",
       "           18.78030884,   10.89898522,    0.        ,    8.61821816,\n",
       "            0.        ,    9.05466333,   49.17606851,  241.92769044,\n",
       "            0.        ,    0.        ,    0.        ,    0.        ,\n",
       "          486.27180659,    0.        ,    0.        ,    0.        ,\n",
       "           67.0451594 ,   21.3950929 ,    0.        ,   17.89785834,\n",
       "          130.81667598,  174.42223464,  599.41587417, 2840.10949418,\n",
       "          393.50620205,    0.        ,    0.        ,    0.        ,\n",
       "            0.        ,    0.        ,  196.27386115,    0.        ,\n",
       "            0.        ,    0.        ,   10.24162629,    0.        ,\n",
       "            0.        ,  256.6738291 ,    0.        ,    0.        ,\n",
       "          324.49994497,  120.3982221 ,    0.        ,    0.        ,\n",
       "            0.        ,    0.        ,    0.        ,    0.        ,\n",
       "            0.        ,    0.        ,    0.        ,    0.        ,\n",
       "            0.        ,    0.        ,    0.        ,    0.        ,\n",
       "            0.        ,    0.        ,    0.        ,    0.        ,\n",
       "            0.        ,    0.        ,    0.        ,    0.        ,\n",
       "            0.        ,  227.56391044,    0.        ,  127.04155676,\n",
       "            0.        ,  133.77420533,    0.        ,    0.        ,\n",
       "           89.79681365,   93.2081103 ,    0.        ,    0.        ,\n",
       "            0.        ,    0.        , 1023.77370673,  674.91550941,\n",
       "         1200.49050192, 2755.81925257,    0.        ,    0.        ,\n",
       "            0.        ,    0.        ,   30.022214  ,    0.        ,\n",
       "          164.03113394,    0.        ,    0.        ,    0.        ,\n",
       "            0.        ,    0.        ,    0.        ,    0.        ,\n",
       "            0.        ,   43.84062043,    0.        ,   29.89946581,\n",
       "           26.72754483,    0.        ,   19.22248588,   43.25135855,\n",
       "            9.05466333,   47.69950814,   17.67288149,   19.73164326,\n",
       "           43.84062043,   37.2369681 ,   20.3356451 ,   29.00831189,\n",
       "           33.42428733,  148.84306327,   29.29546398,  297.58372171,\n",
       "            9.56382071,    0.        ,    9.56382071,    0.        ,\n",
       "            0.        ,    0.        ,  879.79671289, 2014.63610463,\n",
       "          286.5253048 ,    0.        ,    9.56382071,    0.        ,\n",
       "            0.        ,    0.        ,    0.        ,    0.        ,\n",
       "            0.        ,  267.40617159,    0.        ,    0.        ,\n",
       "            0.        ,   24.58803426,   49.17606851,  209.49751999,\n",
       "           98.35213702,    0.        ,    0.        ,    0.        ,\n",
       "            0.        ,    0.        ,    0.        ,    0.        ,\n",
       "            0.        ,    0.        ,    0.        ,    0.        ,\n",
       "            0.        ,    0.        ,    0.        ,  119.42010975,\n",
       "            0.        ,    0.        ,    0.        ,    0.        ,\n",
       "          122.76982866,    0.        ,  126.74734899,    0.        ,\n",
       "            0.        ,  126.74734899,    0.        ,    0.        ,\n",
       "            0.        ,  236.18001609,    0.        ,    0.        ,\n",
       "            0.        ,    0.        ,    0.        ,    0.        ,\n",
       "            0.        ,    0.        ,    0.        ,    0.        ,\n",
       "            0.        ,    0.        ,    0.        ,    0.        ,\n",
       "            0.        ,    0.        ,  126.74734899,    0.        ,\n",
       "            0.        ,   86.91402871, 1099.57856819,  267.66184097,\n",
       "          441.93266926,    0.        ,   26.1629509 ,    0.        ,\n",
       "            0.        ,   21.92031022,    0.        ,    0.        ,\n",
       "            0.        ,    0.        ,    0.        ,    0.        ,\n",
       "            0.        ,    0.        ,    0.        ,    0.        ,\n",
       "          219.93036088,    0.        ,    0.        ,    0.        ,\n",
       "            0.        ,    0.        ,    0.        ,    0.        ,\n",
       "            0.        ,  164.03113394,    0.        ,    0.        ,\n",
       "            0.        ,    0.        ]),\n",
       "  'query': None},\n",
       " 'class': 'MatrixProfile',\n",
       " 'algorithm': 'mpx',\n",
       " 'discords': array([ 6,  7,  0,  3,  2,  1, 20, 19,  4,  5])}"
      ]
     },
     "execution_count": 225,
     "metadata": {},
     "output_type": "execute_result"
    }
   ],
   "source": [
    "discords_profile"
   ]
  },
  {
   "cell_type": "code",
   "execution_count": 226,
   "id": "8a60e304",
   "metadata": {
    "scrolled": false
   },
   "outputs": [
    {
     "name": "stderr",
     "output_type": "stream",
     "text": [
      "/Users/batuhanduyuler/opt/anaconda3/envs/batuenv/lib/python3.7/site-packages/matrixprofile/visualize.py:375: UserWarning: This figure includes Axes that are not compatible with tight_layout, so results might be incorrect.\n",
      "  fig.tight_layout()\n"
     ]
    },
    {
     "data": {
      "image/png": "[encoded data removed]",
      "text/plain": [
       "<Figure size 1080x504 with 2 Axes>"
      ]
     },
     "metadata": {
      "needs_background": "light"
     },
     "output_type": "display_data"
    },
    {
     "data": {
      "image/png": "[encoded data removed]",
      "text/plain": [
       "<Figure size 1080x504 with 4 Axes>"
      ]
     },
     "metadata": {
      "needs_background": "light"
     },
     "output_type": "display_data"
    }
   ],
   "source": [
    "figures = mp.visualize(profile=discords_profile)"
   ]
  },
  {
   "cell_type": "code",
   "execution_count": null,
   "id": "a7fc09eb",
   "metadata": {},
   "outputs": [],
   "source": []
  },
  {
   "cell_type": "code",
   "execution_count": null,
   "id": "263d720a",
   "metadata": {},
   "outputs": [],
   "source": []
  },
  {
   "cell_type": "code",
   "execution_count": null,
   "id": "664f04bc",
   "metadata": {},
   "outputs": [],
   "source": []
  },
  {
   "cell_type": "code",
   "execution_count": null,
   "id": "05b4b5cd",
   "metadata": {},
   "outputs": [],
   "source": []
  },
  {
   "cell_type": "code",
   "execution_count": null,
   "id": "ef7b7454",
   "metadata": {},
   "outputs": [],
   "source": []
  },
  {
   "cell_type": "code",
   "execution_count": null,
   "id": "7bbd5b62",
   "metadata": {},
   "outputs": [],
   "source": [
    "def randomize_packets(sampleNumber : int, dataset : pd.DataFrame)->pd.DataFrame : \n",
    "    randomizePackets = [random.randint(1, len(dataset)-1) for _ in range(sampleNumber)]\n",
    "    randomizedData = list()\n",
    "    for point in randomizePackets:\n",
    "        randomizedData.append(dataset.iloc[point, : ])\n",
    "\n",
    "    randomizedData = pd.DataFrame(randomizedData).reset_index()\n",
    "    return randomizedData"
   ]
  },
  {
   "cell_type": "code",
   "execution_count": null,
   "id": "694f7911",
   "metadata": {},
   "outputs": [],
   "source": [
    "def select_discords_from_dataset(dataset : pd.DataFrame, discords : list)->pd.DataFrame:\n",
    "    discord_data = list()\n",
    "    for point in discords:\n",
    "        discord_data.append(dataset.iloc[point, :])\n",
    "    \n",
    "    return pd.DataFrame(discord_data)"
   ]
  },
  {
   "cell_type": "code",
   "execution_count": null,
   "id": "24507483",
   "metadata": {},
   "outputs": [],
   "source": [
    "def select_slice_from_dataframe(startingIndex : int , stopIndex : int, dataframe:pd.DataFrame)->pd.DataFrame:\n",
    "    return dataframe.iloc[startingIndex : stopIndex, :]"
   ]
  },
  {
   "cell_type": "code",
   "execution_count": null,
   "id": "a8a7d112",
   "metadata": {},
   "outputs": [],
   "source": [
    "def concat_datasets(dataset1 : pd.DataFrame, dataset2 : pd.DataFrame, axis = 0):\n",
    "    if (all(dataset1.columns == dataset2.columns)):\n",
    "        return pd.concat([dataset1, dataset2], axis=axis)\n",
    "    else:\n",
    "        raise ValueError(\"Dataframe Columns must be identical\")"
   ]
  },
  {
   "cell_type": "code",
   "execution_count": null,
   "id": "ef9afba9",
   "metadata": {},
   "outputs": [],
   "source": [
    "randomizedData = randomize_packets(10000, datasetFriday)\n",
    "slicedData = select_slice_from_dataframe(0, 25000, datasetFriday)"
   ]
  },
  {
   "cell_type": "code",
   "execution_count": null,
   "id": "2babbd5d",
   "metadata": {},
   "outputs": [],
   "source": [
    "randomizedData"
   ]
  },
  {
   "cell_type": "code",
   "execution_count": null,
   "id": "91d6e0ef",
   "metadata": {},
   "outputs": [],
   "source": []
  },
  {
   "cell_type": "code",
   "execution_count": null,
   "id": "84454f81",
   "metadata": {},
   "outputs": [],
   "source": [
    "workerData = slicedData.copy()\n",
    "numberOfPackets = len(workerData)\n",
    "benignNumber = len(workerData[workerData[\" Label\"] == \"BENIGN\"])\n",
    "ddosNumber = len(workerData[workerData[\" Label\"] == \"DDoS\"])\n",
    "\n",
    "\n",
    "print(f\"number of DDoS packets : {ddosNumber}\")\n",
    "print(f\"number of Benign packets : {benignNumber}\")\n",
    "print(f\"number of packets : {numberOfPackets}\")\n",
    "\n",
    "benignRatio = benignNumber / numberOfPackets\n",
    "ddosRatio = ddosNumber / numberOfPackets\n",
    "\n",
    "print(f\"ddos Ratio : {ddosRatio} \\nbenign Ratio: {benignRatio}\")"
   ]
  },
  {
   "cell_type": "code",
   "execution_count": null,
   "id": "263bacc6",
   "metadata": {},
   "outputs": [],
   "source": [
    "workerData"
   ]
  },
  {
   "cell_type": "code",
   "execution_count": null,
   "id": "fe71cc06",
   "metadata": {},
   "outputs": [],
   "source": [
    "mpDataset = concat_datasets(workerData, datasetMonday, 0)"
   ]
  },
  {
   "cell_type": "code",
   "execution_count": null,
   "id": "ac08c0e5",
   "metadata": {},
   "outputs": [],
   "source": [
    "#plot ddosRatio\n",
    "plt.figure(figsize=(20,10))\n",
    "plt.plot(range(0, 100000), mpDataset[\" Label\"].to_list()[:100000])\n",
    "plt.title('Mixed Working Hours')\n",
    "plt.ylabel(\"Prediction\")\n",
    "plt.xlabel(\"Packet No\")\n",
    "plt.show()"
   ]
  },
  {
   "cell_type": "code",
   "execution_count": null,
   "id": "42c36f29",
   "metadata": {},
   "outputs": [],
   "source": [
    "startingTime = time.time()\n",
    "someFeatureForTimeseries = mpDataset[\" Total Length of Bwd Packets\"][:100000]\n",
    "window_size = 2\n",
    "\n",
    "matrix_profile = mp.compute(someFeatureForTimeseries.to_list(), windows=window_size, threshold=2, n_jobs=4)\n",
    "discords_profile = mp.discover.discords(matrix_profile,exclusion_zone = 10,  k = 1)\n",
    "endingTime = time.time()\n",
    "\n",
    "print(f\"matrix profile calculation takes {endingTime - startingTime} seconds\")"
   ]
  },
  {
   "cell_type": "code",
   "execution_count": null,
   "id": "3a3cad2d",
   "metadata": {},
   "outputs": [],
   "source": [
    "help(mp.discover.discords)"
   ]
  },
  {
   "cell_type": "code",
   "execution_count": null,
   "id": "625717e5",
   "metadata": {},
   "outputs": [],
   "source": [
    "figures = mp.visualize(profile=discords_profile)"
   ]
  },
  {
   "cell_type": "code",
   "execution_count": null,
   "id": "2e078153",
   "metadata": {},
   "outputs": [],
   "source": [
    "discords_profile"
   ]
  },
  {
   "cell_type": "code",
   "execution_count": null,
   "id": "1928712b",
   "metadata": {},
   "outputs": [],
   "source": [
    "examining.iloc[25093,:]"
   ]
  },
  {
   "cell_type": "code",
   "execution_count": null,
   "id": "75a2cbf4",
   "metadata": {},
   "outputs": [],
   "source": [
    "examining = mpDataset[:100000]"
   ]
  },
  {
   "cell_type": "code",
   "execution_count": null,
   "id": "e88d2303",
   "metadata": {},
   "outputs": [],
   "source": [
    "discord_data = select_discords_from_dataset(examining, list(discords_profile[\"discords\"]))"
   ]
  },
  {
   "cell_type": "code",
   "execution_count": null,
   "id": "73688e29",
   "metadata": {},
   "outputs": [],
   "source": [
    "print(len(discord_data[discord_data[\" Label\"] == \"DDoS\"]) / len(discord_data))"
   ]
  },
  {
   "cell_type": "code",
   "execution_count": null,
   "id": "3dd4b8c7",
   "metadata": {},
   "outputs": [],
   "source": [
    "len(discord_data)"
   ]
  },
  {
   "cell_type": "code",
   "execution_count": null,
   "id": "24e38582",
   "metadata": {},
   "outputs": [],
   "source": [
    "len(discords_profile[\"mp\"])"
   ]
  },
  {
   "cell_type": "code",
   "execution_count": null,
   "id": "901d88c9",
   "metadata": {},
   "outputs": [],
   "source": [
    "matrixProfileData = discords_profile[\"mp\"]"
   ]
  },
  {
   "cell_type": "code",
   "execution_count": null,
   "id": "5d099107",
   "metadata": {},
   "outputs": [],
   "source": []
  }
 ],
 "metadata": {
  "kernelspec": {
   "display_name": "Python 3 (ipykernel)",
   "language": "python",
   "name": "python3"
  },
  "language_info": {
   "codemirror_mode": {
    "name": "ipython",
    "version": 3
   },
   "file_extension": ".py",
   "mimetype": "text/x-python",
   "name": "python",
   "nbconvert_exporter": "python",
   "pygments_lexer": "ipython3",
   "version": "3.7.13"
  }
 },
 "nbformat": 4,
 "nbformat_minor": 5
}
