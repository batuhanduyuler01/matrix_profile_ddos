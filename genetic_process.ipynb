{
 "cells": [
  {
   "cell_type": "code",
   "execution_count": 193,
   "metadata": {},
   "outputs": [],
   "source": [
    "import matplotlib.pyplot as plt\n",
    "import numpy as np\n",
    "import pandas as pd\n",
    "import matrixprofile as mp\n",
    "import random\n",
    "import time\n",
    "import os\n",
    "from matplotlib.patches import Rectangle"
   ]
  },
  {
   "cell_type": "code",
   "execution_count": 194,
   "metadata": {},
   "outputs": [],
   "source": [
    "def plot_ddos(df: pd.DataFrame):\n",
    "    xAxis = list(range(len(df)))\n",
    "    yAxis = df[\"Label\"].to_list()\n",
    "    # Create a figure\n",
    "    fig = plt.figure(figsize=(25,15))\n",
    "    # Add a subplot\n",
    "    ax = fig.add_subplot()\n",
    "\n",
    "    ax.plot(xAxis, yAxis)\n",
    "    rect = Rectangle((7200, 0), 300, 1, facecolor='lightgreen')\n",
    "    ax.add_patch(rect)\n",
    "    rect = Rectangle((3600*3 + 7200 +280, 0), 300, 1, facecolor='lightgreen')\n",
    "    ax.add_patch(rect)\n",
    "    plt.ylabel('Label')\n",
    "    plt.xlabel('Minute')\n",
    "    plt.title('Network Traffic')\n",
    "    plt.show()"
   ]
  },
  {
   "cell_type": "code",
   "execution_count": 195,
   "metadata": {},
   "outputs": [
    {
     "name": "stdout",
     "output_type": "stream",
     "text": [
      "Dataset is loaded in 0.11157925000043178 seconds\n"
     ]
    }
   ],
   "source": [
    "def upload_dataset_with_time(path:str):\n",
    "    startingT = time.perf_counter()\n",
    "    veriseti = pd.read_csv(path, low_memory=False)\n",
    "    endingT = time.perf_counter()\n",
    "    print(f\"Dataset is loaded in {endingT - startingT} seconds\")\n",
    "    return veriseti\n",
    "\n",
    "data_path = '../verisetleri/ddos_dataset_on_seconds.csv'\n",
    "df = upload_dataset_with_time(data_path)"
   ]
  },
  {
   "cell_type": "code",
   "execution_count": 196,
   "metadata": {},
   "outputs": [
    {
     "data": {
      "image/png": "[encoded data removed]",
      "text/plain": [
       "<Figure size 1800x1080 with 1 Axes>"
      ]
     },
     "metadata": {
      "needs_background": "light"
     },
     "output_type": "display_data"
    }
   ],
   "source": [
    "plot_ddos(df.copy())"
   ]
  },
  {
   "cell_type": "code",
   "execution_count": 197,
   "metadata": {},
   "outputs": [],
   "source": [
    "def select_samples_from_dataset(dataset : pd.DataFrame , samples : list):\n",
    "    if (dataset.empty):\n",
    "        raise ValueError(\"Dataset is None!\")\n",
    "\n",
    "    if (samples == None):\n",
    "        raise ValueError(\"sample list is None\")\n",
    "\n",
    "    return dataset.iloc[samples, :]"
   ]
  },
  {
   "cell_type": "code",
   "execution_count": 198,
   "metadata": {},
   "outputs": [],
   "source": [
    "from sklearn.metrics import classification_report\n",
    "def calculate_classification_report(y_values_df : pd.DataFrame):\n",
    "    if 'y_true' not in y_values_df.columns:\n",
    "        raise ValueError('true vals not included in df')\n",
    "\n",
    "    if 'y_pred' not in y_values_df.columns:\n",
    "        raise ValueError('pred vals not included in df')\n",
    "\n",
    "    return classification_report(y_values_df[\"y_true\"].to_list(), y_values_df[\"y_pred\"].to_list(), output_dict=True)[\"1\"]"
   ]
  },
  {
   "cell_type": "code",
   "execution_count": 199,
   "metadata": {},
   "outputs": [],
   "source": [
    "def obtain_y_vals(dataframe:pd.DataFrame, selected_label_list):\n",
    "    df_idxs = list(range(0, len(dataframe)))\n",
    "    for idx in selected_label_list:\n",
    "        df_idxs.remove(idx)\n",
    "    \n",
    "    pred_df = pd.DataFrame()\n",
    "    pred_df['y_true'] = dataframe[\"Label\"].copy()\n",
    "    pred_df[\"y_pred\"] = dataframe[\"Label\"].copy()\n",
    "    \n",
    "    pred_df.iloc[df_idxs, 0] = 0\n",
    "    pred_df.iloc[selected_label_list, 0] = 1\n",
    "    return pred_df"
   ]
  },
  {
   "cell_type": "code",
   "execution_count": 200,
   "metadata": {},
   "outputs": [],
   "source": [
    "import stumpy\n",
    "stumpy.config.STUMPY_EXCL_ZONE_DENOM = 4"
   ]
  },
  {
   "cell_type": "code",
   "execution_count": 201,
   "metadata": {},
   "outputs": [],
   "source": [
    "y = df[[\"Label\"]]\n",
    "X = df.drop([\"Label\"], axis = 1)"
   ]
  },
  {
   "cell_type": "code",
   "execution_count": 202,
   "metadata": {},
   "outputs": [],
   "source": [
    "feature_map = {i : feat_name for i, feat_name in enumerate(X.columns)}\n",
    "X.columns = list(range(0, len(X.columns)))"
   ]
  },
  {
   "cell_type": "code",
   "execution_count": 203,
   "metadata": {},
   "outputs": [],
   "source": [
    "featureNumber = 5\n",
    "genes = [random.randrange(0,2) for _ in range(featureNumber)]\n",
    "gene_indexes = [idx for idx, f in enumerate(genes) if f == 1]\n",
    "individual = X.iloc[:, gene_indexes]"
   ]
  },
  {
   "cell_type": "code",
   "execution_count": 204,
   "metadata": {},
   "outputs": [
    {
     "ename": "KeyboardInterrupt",
     "evalue": "",
     "output_type": "error",
     "traceback": [
      "\u001b[0;31m---------------------------------------------------------------------------\u001b[0m",
      "\u001b[0;31mKeyboardInterrupt\u001b[0m                         Traceback (most recent call last)",
      "\u001b[0;32m<ipython-input-204-6f4b63a87dac>\u001b[0m in \u001b[0;36m<module>\u001b[0;34m\u001b[0m\n\u001b[1;32m      1\u001b[0m \u001b[0mwindow_size\u001b[0m \u001b[0;34m=\u001b[0m \u001b[0;36m60\u001b[0m\u001b[0;34m\u001b[0m\u001b[0;34m\u001b[0m\u001b[0m\n\u001b[0;32m----> 2\u001b[0;31m \u001b[0mcurr_mps\u001b[0m\u001b[0;34m,\u001b[0m \u001b[0mcurr_indices\u001b[0m \u001b[0;34m=\u001b[0m \u001b[0mstumpy\u001b[0m\u001b[0;34m.\u001b[0m\u001b[0mmstump\u001b[0m\u001b[0;34m(\u001b[0m\u001b[0mindividual\u001b[0m\u001b[0;34m,\u001b[0m \u001b[0mwindow_size\u001b[0m\u001b[0;34m)\u001b[0m\u001b[0;34m\u001b[0m\u001b[0;34m\u001b[0m\u001b[0m\n\u001b[0m",
      "\u001b[0;32m~/opt/anaconda3/lib/python3.8/site-packages/stumpy/core.py\u001b[0m in \u001b[0;36minner_wrapper\u001b[0;34m(*args, **kwargs)\u001b[0m\n\u001b[1;32m    130\u001b[0m             \u001b[0mis_same_params\u001b[0m \u001b[0;34m=\u001b[0m \u001b[0m_compare_parameters\u001b[0m\u001b[0;34m(\u001b[0m\u001b[0mnorm\u001b[0m\u001b[0;34m,\u001b[0m \u001b[0mnon_norm\u001b[0m\u001b[0;34m,\u001b[0m \u001b[0mexclude\u001b[0m\u001b[0;34m=\u001b[0m\u001b[0mexclude\u001b[0m\u001b[0;34m)\u001b[0m\u001b[0;34m\u001b[0m\u001b[0;34m\u001b[0m\u001b[0m\n\u001b[1;32m    131\u001b[0m             \u001b[0;32mif\u001b[0m \u001b[0;32mnot\u001b[0m \u001b[0mis_same_params\u001b[0m \u001b[0;32mor\u001b[0m \u001b[0mkwargs\u001b[0m\u001b[0;34m.\u001b[0m\u001b[0mget\u001b[0m\u001b[0;34m(\u001b[0m\u001b[0;34m\"normalize\"\u001b[0m\u001b[0;34m,\u001b[0m \u001b[0;32mTrue\u001b[0m\u001b[0;34m)\u001b[0m\u001b[0;34m:\u001b[0m\u001b[0;34m\u001b[0m\u001b[0;34m\u001b[0m\u001b[0m\n\u001b[0;32m--> 132\u001b[0;31m                 \u001b[0;32mreturn\u001b[0m \u001b[0mnorm\u001b[0m\u001b[0;34m(\u001b[0m\u001b[0;34m*\u001b[0m\u001b[0margs\u001b[0m\u001b[0;34m,\u001b[0m \u001b[0;34m**\u001b[0m\u001b[0mkwargs\u001b[0m\u001b[0;34m)\u001b[0m\u001b[0;34m\u001b[0m\u001b[0;34m\u001b[0m\u001b[0m\n\u001b[0m\u001b[1;32m    133\u001b[0m             \u001b[0;32melse\u001b[0m\u001b[0;34m:\u001b[0m\u001b[0;34m\u001b[0m\u001b[0;34m\u001b[0m\u001b[0m\n\u001b[1;32m    134\u001b[0m                 \u001b[0mkwargs\u001b[0m \u001b[0;34m=\u001b[0m \u001b[0;34m{\u001b[0m\u001b[0mk\u001b[0m\u001b[0;34m:\u001b[0m \u001b[0mv\u001b[0m \u001b[0;32mfor\u001b[0m \u001b[0mk\u001b[0m\u001b[0;34m,\u001b[0m \u001b[0mv\u001b[0m \u001b[0;32min\u001b[0m \u001b[0mkwargs\u001b[0m\u001b[0;34m.\u001b[0m\u001b[0mitems\u001b[0m\u001b[0;34m(\u001b[0m\u001b[0;34m)\u001b[0m \u001b[0;32mif\u001b[0m \u001b[0mk\u001b[0m \u001b[0;34m!=\u001b[0m \u001b[0;34m\"normalize\"\u001b[0m\u001b[0;34m}\u001b[0m\u001b[0;34m\u001b[0m\u001b[0;34m\u001b[0m\u001b[0m\n",
      "\u001b[0;32m~/opt/anaconda3/lib/python3.8/site-packages/stumpy/mstump.py\u001b[0m in \u001b[0;36mmstump\u001b[0;34m(T, m, include, discords, normalize, p)\u001b[0m\n\u001b[1;32m   1234\u001b[0m     \u001b[0mQT\u001b[0m\u001b[0;34m,\u001b[0m \u001b[0mQT_first\u001b[0m \u001b[0;34m=\u001b[0m \u001b[0m_get_multi_QT\u001b[0m\u001b[0;34m(\u001b[0m\u001b[0mstart\u001b[0m\u001b[0;34m,\u001b[0m \u001b[0mT_A\u001b[0m\u001b[0;34m,\u001b[0m \u001b[0mm\u001b[0m\u001b[0;34m)\u001b[0m\u001b[0;34m\u001b[0m\u001b[0;34m\u001b[0m\u001b[0m\n\u001b[1;32m   1235\u001b[0m \u001b[0;34m\u001b[0m\u001b[0m\n\u001b[0;32m-> 1236\u001b[0;31m     P[:, start + 1 : stop], I[:, start + 1 : stop] = _mstump(\n\u001b[0m\u001b[1;32m   1237\u001b[0m         \u001b[0mT_A\u001b[0m\u001b[0;34m,\u001b[0m\u001b[0;34m\u001b[0m\u001b[0;34m\u001b[0m\u001b[0m\n\u001b[1;32m   1238\u001b[0m         \u001b[0mm\u001b[0m\u001b[0;34m,\u001b[0m\u001b[0;34m\u001b[0m\u001b[0;34m\u001b[0m\u001b[0m\n",
      "\u001b[0;32m~/opt/anaconda3/lib/python3.8/site-packages/stumpy/mstump.py\u001b[0m in \u001b[0;36m_mstump\u001b[0;34m(T, m, range_stop, excl_zone, M_T, Σ_T, QT, QT_first, μ_Q, σ_Q, k, range_start, include, discords)\u001b[0m\n\u001b[1;32m   1114\u001b[0m             \u001b[0mD\u001b[0m\u001b[0;34m[\u001b[0m\u001b[0mstart_row_idx\u001b[0m\u001b[0;34m:\u001b[0m\u001b[0;34m]\u001b[0m\u001b[0;34m.\u001b[0m\u001b[0msort\u001b[0m\u001b[0;34m(\u001b[0m\u001b[0maxis\u001b[0m\u001b[0;34m=\u001b[0m\u001b[0;36m0\u001b[0m\u001b[0;34m)\u001b[0m\u001b[0;34m\u001b[0m\u001b[0;34m\u001b[0m\u001b[0m\n\u001b[1;32m   1115\u001b[0m \u001b[0;34m\u001b[0m\u001b[0m\n\u001b[0;32m-> 1116\u001b[0;31m         \u001b[0m_compute_PI\u001b[0m\u001b[0;34m(\u001b[0m\u001b[0md\u001b[0m\u001b[0;34m,\u001b[0m \u001b[0midx\u001b[0m\u001b[0;34m,\u001b[0m \u001b[0mD\u001b[0m\u001b[0;34m,\u001b[0m \u001b[0mD_prime\u001b[0m\u001b[0;34m,\u001b[0m \u001b[0mrange_start\u001b[0m\u001b[0;34m,\u001b[0m \u001b[0mP\u001b[0m\u001b[0;34m,\u001b[0m \u001b[0mI\u001b[0m\u001b[0;34m)\u001b[0m\u001b[0;34m\u001b[0m\u001b[0;34m\u001b[0m\u001b[0m\n\u001b[0m\u001b[1;32m   1117\u001b[0m \u001b[0;34m\u001b[0m\u001b[0m\n\u001b[1;32m   1118\u001b[0m     \u001b[0;32mreturn\u001b[0m \u001b[0mP\u001b[0m\u001b[0;34m,\u001b[0m \u001b[0mI\u001b[0m\u001b[0;34m\u001b[0m\u001b[0;34m\u001b[0m\u001b[0m\n",
      "\u001b[0;31mKeyboardInterrupt\u001b[0m: "
     ]
    }
   ],
   "source": [
    "window_size = 60\n",
    "curr_mps, curr_indices = stumpy.mstump(individual, window_size)"
   ]
  },
  {
   "cell_type": "code",
   "execution_count": null,
   "metadata": {},
   "outputs": [],
   "source": [
    "#ileride sadece discord base mp_maximization kullanirsak ise yarayabilir.\n",
    "mp_mp = mp.compute(individual[1].to_list(),windows=60, n_jobs=4)\n",
    "mp_mps, mp_pi = mp_mp['mp'], mp_mp['pi']\n",
    "sorted_list = sorted(zip(mp_pi, mp_mps), key=lambda x:x[1], reverse=True)[:3]"
   ]
  },
  {
   "cell_type": "code",
   "execution_count": null,
   "metadata": {},
   "outputs": [
    {
     "data": {
      "text/html": [
       "<div>\n",
       "<style scoped>\n",
       "    .dataframe tbody tr th:only-of-type {\n",
       "        vertical-align: middle;\n",
       "    }\n",
       "\n",
       "    .dataframe tbody tr th {\n",
       "        vertical-align: top;\n",
       "    }\n",
       "\n",
       "    .dataframe thead th {\n",
       "        text-align: right;\n",
       "    }\n",
       "</style>\n",
       "<table border=\"1\" class=\"dataframe\">\n",
       "  <thead>\n",
       "    <tr style=\"text-align: right;\">\n",
       "      <th></th>\n",
       "      <th>1</th>\n",
       "      <th>3</th>\n",
       "    </tr>\n",
       "  </thead>\n",
       "  <tbody>\n",
       "    <tr>\n",
       "      <th>0</th>\n",
       "      <td>72193.0</td>\n",
       "      <td>138620706.0</td>\n",
       "    </tr>\n",
       "    <tr>\n",
       "      <th>1</th>\n",
       "      <td>36679.0</td>\n",
       "      <td>15398436.0</td>\n",
       "    </tr>\n",
       "    <tr>\n",
       "      <th>2</th>\n",
       "      <td>31317.0</td>\n",
       "      <td>12264572.0</td>\n",
       "    </tr>\n",
       "    <tr>\n",
       "      <th>3</th>\n",
       "      <td>72193.0</td>\n",
       "      <td>138620706.0</td>\n",
       "    </tr>\n",
       "    <tr>\n",
       "      <th>4</th>\n",
       "      <td>36679.0</td>\n",
       "      <td>15398436.0</td>\n",
       "    </tr>\n",
       "    <tr>\n",
       "      <th>...</th>\n",
       "      <td>...</td>\n",
       "      <td>...</td>\n",
       "    </tr>\n",
       "    <tr>\n",
       "      <th>25671</th>\n",
       "      <td>36679.0</td>\n",
       "      <td>15398436.0</td>\n",
       "    </tr>\n",
       "    <tr>\n",
       "      <th>25672</th>\n",
       "      <td>31317.0</td>\n",
       "      <td>12264572.0</td>\n",
       "    </tr>\n",
       "    <tr>\n",
       "      <th>25673</th>\n",
       "      <td>72193.0</td>\n",
       "      <td>138620706.0</td>\n",
       "    </tr>\n",
       "    <tr>\n",
       "      <th>25674</th>\n",
       "      <td>36679.0</td>\n",
       "      <td>15398436.0</td>\n",
       "    </tr>\n",
       "    <tr>\n",
       "      <th>25675</th>\n",
       "      <td>31317.0</td>\n",
       "      <td>12264572.0</td>\n",
       "    </tr>\n",
       "  </tbody>\n",
       "</table>\n",
       "<p>25676 rows × 2 columns</p>\n",
       "</div>"
      ],
      "text/plain": [
       "             1            3\n",
       "0      72193.0  138620706.0\n",
       "1      36679.0   15398436.0\n",
       "2      31317.0   12264572.0\n",
       "3      72193.0  138620706.0\n",
       "4      36679.0   15398436.0\n",
       "...        ...          ...\n",
       "25671  36679.0   15398436.0\n",
       "25672  31317.0   12264572.0\n",
       "25673  72193.0  138620706.0\n",
       "25674  36679.0   15398436.0\n",
       "25675  31317.0   12264572.0\n",
       "\n",
       "[25676 rows x 2 columns]"
      ]
     },
     "execution_count": 116,
     "metadata": {},
     "output_type": "execute_result"
    }
   ],
   "source": [
    "individual"
   ]
  },
  {
   "cell_type": "code",
   "execution_count": null,
   "metadata": {},
   "outputs": [
    {
     "data": {
      "text/plain": [
       "(2, 25617)"
      ]
     },
     "execution_count": 117,
     "metadata": {},
     "output_type": "execute_result"
    }
   ],
   "source": [
    "curr_mps.shape"
   ]
  },
  {
   "cell_type": "code",
   "execution_count": null,
   "metadata": {},
   "outputs": [
    {
     "data": {
      "text/html": [
       "<div>\n",
       "<style scoped>\n",
       "    .dataframe tbody tr th:only-of-type {\n",
       "        vertical-align: middle;\n",
       "    }\n",
       "\n",
       "    .dataframe tbody tr th {\n",
       "        vertical-align: top;\n",
       "    }\n",
       "\n",
       "    .dataframe thead th {\n",
       "        text-align: right;\n",
       "    }\n",
       "</style>\n",
       "<table border=\"1\" class=\"dataframe\">\n",
       "  <thead>\n",
       "    <tr style=\"text-align: right;\">\n",
       "      <th></th>\n",
       "      <th>1</th>\n",
       "      <th>3</th>\n",
       "    </tr>\n",
       "  </thead>\n",
       "  <tbody>\n",
       "    <tr>\n",
       "      <th>0</th>\n",
       "      <td>72193.0</td>\n",
       "      <td>138620706.0</td>\n",
       "    </tr>\n",
       "    <tr>\n",
       "      <th>1</th>\n",
       "      <td>36679.0</td>\n",
       "      <td>15398436.0</td>\n",
       "    </tr>\n",
       "    <tr>\n",
       "      <th>2</th>\n",
       "      <td>31317.0</td>\n",
       "      <td>12264572.0</td>\n",
       "    </tr>\n",
       "    <tr>\n",
       "      <th>3</th>\n",
       "      <td>72193.0</td>\n",
       "      <td>138620706.0</td>\n",
       "    </tr>\n",
       "    <tr>\n",
       "      <th>4</th>\n",
       "      <td>36679.0</td>\n",
       "      <td>15398436.0</td>\n",
       "    </tr>\n",
       "    <tr>\n",
       "      <th>...</th>\n",
       "      <td>...</td>\n",
       "      <td>...</td>\n",
       "    </tr>\n",
       "    <tr>\n",
       "      <th>25671</th>\n",
       "      <td>36679.0</td>\n",
       "      <td>15398436.0</td>\n",
       "    </tr>\n",
       "    <tr>\n",
       "      <th>25672</th>\n",
       "      <td>31317.0</td>\n",
       "      <td>12264572.0</td>\n",
       "    </tr>\n",
       "    <tr>\n",
       "      <th>25673</th>\n",
       "      <td>72193.0</td>\n",
       "      <td>138620706.0</td>\n",
       "    </tr>\n",
       "    <tr>\n",
       "      <th>25674</th>\n",
       "      <td>36679.0</td>\n",
       "      <td>15398436.0</td>\n",
       "    </tr>\n",
       "    <tr>\n",
       "      <th>25675</th>\n",
       "      <td>31317.0</td>\n",
       "      <td>12264572.0</td>\n",
       "    </tr>\n",
       "  </tbody>\n",
       "</table>\n",
       "<p>25676 rows × 2 columns</p>\n",
       "</div>"
      ],
      "text/plain": [
       "             1            3\n",
       "0      72193.0  138620706.0\n",
       "1      36679.0   15398436.0\n",
       "2      31317.0   12264572.0\n",
       "3      72193.0  138620706.0\n",
       "4      36679.0   15398436.0\n",
       "...        ...          ...\n",
       "25671  36679.0   15398436.0\n",
       "25672  31317.0   12264572.0\n",
       "25673  72193.0  138620706.0\n",
       "25674  36679.0   15398436.0\n",
       "25675  31317.0   12264572.0\n",
       "\n",
       "[25676 rows x 2 columns]"
      ]
     },
     "execution_count": 118,
     "metadata": {},
     "output_type": "execute_result"
    }
   ],
   "source": [
    "individual"
   ]
  },
  {
   "cell_type": "code",
   "execution_count": null,
   "metadata": {},
   "outputs": [],
   "source": [
    "def calculate_discords(mps: np.array, individual:pd.DataFrame, window_size:int, discord_num:int=476):\n",
    "    from collections import Counter\n",
    "    curr_mps_dict = dict()\n",
    "    curr_mps_dict = {f_idx: np.argsort(curr_mps[idx])[::-1][:500] for idx, f_idx in enumerate(individual.columns)}\n",
    "    discords = {}\n",
    "    for idx, indices in curr_mps_dict.items():\n",
    "        print(f'now processing current idx: {idx}') \n",
    "        indice_list = []\n",
    "        for indice in indices:\n",
    "            #get mp point window\n",
    "            indice_list.extend(list(range(indice, indice + window_size - 1)))\n",
    "        #sort the indices by count\n",
    "        sorted_discords = sorted(Counter(indice_list).items(), key=lambda t:t[1], reverse=True)\n",
    "        sorted_discord_indexes = [elem[0] for elem in sorted_discords[:discord_num]]\n",
    "\n",
    "        discords[idx] = sorted_discord_indexes\n",
    "    return discords\n",
    "        "
   ]
  },
  {
   "cell_type": "code",
   "execution_count": null,
   "metadata": {},
   "outputs": [],
   "source": [
    "def majority_vote_discords(discord_dict: dict, discord_number:int = 476):\n",
    "    from collections import Counter\n",
    "    overall_list = []\n",
    "    for ft, ids_list in discord_dict.items():\n",
    "        overall_list.extend(ids_list.copy())\n",
    "\n",
    "    sorted_overall = (sorted(Counter(overall_list).items(), key=lambda t:t[1], reverse=True))\n",
    "    overall_ids = [elem[0] for elem in sorted_overall[:discord_number]]\n",
    "\n",
    "    return overall_ids"
   ]
  },
  {
   "cell_type": "code",
   "execution_count": null,
   "metadata": {},
   "outputs": [
    {
     "name": "stdout",
     "output_type": "stream",
     "text": [
      "now processing current idx: 0\n",
      "now processing current idx: 2\n"
     ]
    }
   ],
   "source": [
    "discord_dict = calculate_discords(curr_mps, individual.copy(), window_size=window_size, discord_num=476)"
   ]
  },
  {
   "cell_type": "code",
   "execution_count": null,
   "metadata": {},
   "outputs": [],
   "source": [
    "discords = majority_vote_discords(discord_dict=discord_dict, discord_number=476)"
   ]
  },
  {
   "cell_type": "code",
   "execution_count": null,
   "metadata": {},
   "outputs": [],
   "source": [
    "y_vals = obtain_y_vals(df.copy(), discords)"
   ]
  },
  {
   "cell_type": "code",
   "execution_count": null,
   "metadata": {},
   "outputs": [
    {
     "data": {
      "text/plain": [
       "0.8424369747899161"
      ]
     },
     "execution_count": 31,
     "metadata": {},
     "output_type": "execute_result"
    }
   ],
   "source": [
    "calculate_classification_report(y_vals)['f1-score']"
   ]
  },
  {
   "cell_type": "code",
   "execution_count": 296,
   "metadata": {},
   "outputs": [],
   "source": [
    "class MatrixProfileManager:\n",
    "    if 'global_df' not in dir():\n",
    "        global_df = pd.read_csv('../verisetleri/ddos_dataset_on_seconds.csv', low_memory=True)\n",
    "\n",
    "    def __init__(self, df:pd.DataFrame, window_size:int = 60, discord_number = 476, method='mpx', measure='acc'):\n",
    "        self.measurement = measure\n",
    "        self.window_size = window_size\n",
    "        self.discord_number = discord_number\n",
    "        self.discord_dict = {}\n",
    "        self.discords = []\n",
    "        self.df = df\n",
    "        self.mp_method = method\n",
    "        self.curr_mp_dict = {}\n",
    "\n",
    "    def calculate_mp_multivariate_stumpy(self):\n",
    "        curr_mps, curr_indices = stumpy.mstump(self.df, self.window_size)\n",
    "        self.mps = curr_mps\n",
    "\n",
    "    def calculate_mp_seperately_mpx(self):\n",
    "        import matrixprofile as mp\n",
    "        mp_list = []\n",
    "        for ft in self.df.columns:\n",
    "            inputSignal = self.df[ft].to_list()\n",
    "            matrix_profile = mp.compute(inputSignal, windows=self.window_size, threshold=0.95, n_jobs=4)\n",
    "            mp_list.append(matrix_profile['mp'])\n",
    "\n",
    "        self.mps = np.array(mp_list)\n",
    "    \n",
    "    def calculate_discords(self):\n",
    "        from collections import Counter\n",
    "        curr_mps_dict = dict()\n",
    "        curr_mps_dict = {f_idx: np.argsort(self.mps[idx])[::-1][:500] for idx, f_idx in enumerate(self.df.columns)}\n",
    "        self.curr_mp_dict = {f_idx: np.sort(self.mps[idx])[::-1][:self.discord_number] for idx, f_idx in enumerate(self.df.columns)}\n",
    "\n",
    "        for idx, indices in curr_mps_dict.items():\n",
    "            # print(f'now processing current idx: {idx}') \n",
    "            indice_list = []\n",
    "            for indice in indices:\n",
    "                #get mp point window\n",
    "                indice_list.extend(list(range(indice, indice + self.window_size - 1)))\n",
    "            #sort the indices by count\n",
    "            sorted_discords = sorted(Counter(indice_list).items(), key=lambda t:t[1], reverse=True)\n",
    "            sorted_discord_indexes = [elem[0] for elem in sorted_discords[:self.discord_number]]\n",
    "\n",
    "            self.discord_dict[idx] = sorted_discord_indexes\n",
    "\n",
    "    def majority_vote_discords(self):\n",
    "        from collections import Counter\n",
    "        overall_list = []\n",
    "        for ft, ids_list in self.discord_dict.items():\n",
    "            overall_list.extend(ids_list.copy())\n",
    "\n",
    "        sorted_overall = (sorted(Counter(overall_list).items(), key=lambda t:t[1], reverse=True))\n",
    "        self.discords = [elem[0] for elem in sorted_overall[:self.discord_number]]\n",
    "\n",
    "    def obtain_y_vals(self):\n",
    "        df_idxs = list(range(0, len(MatrixProfileManager.global_df)))\n",
    "        for idx in self.discords:\n",
    "            df_idxs.remove(idx)\n",
    "        \n",
    "        self.pred_df = pd.DataFrame()\n",
    "        self.pred_df['y_true'] = MatrixProfileManager.global_df[\"Label\"].copy()\n",
    "        self.pred_df[\"y_pred\"] = MatrixProfileManager.global_df[\"Label\"].copy()\n",
    "        \n",
    "        self.pred_df.iloc[df_idxs, 0] = 0\n",
    "        self.pred_df.iloc[self.discords, 0] = 1\n",
    "\n",
    "    def calculate_classification_report(self):\n",
    "        from sklearn.metrics import classification_report\n",
    "        if 'y_true' not in self.pred_df.columns:\n",
    "            raise ValueError('true vals not included in df')\n",
    "\n",
    "        if 'y_pred' not in self.pred_df.columns:\n",
    "            raise ValueError('pred vals not included in df')\n",
    "\n",
    "        self.creport = classification_report(self.pred_df[\"y_true\"].to_list(),\n",
    "                                             self.pred_df[\"y_pred\"].to_list(), output_dict=True)[\"1\"]\n",
    "\n",
    "    def get_f1_score(self):\n",
    "        if self.creport is None:\n",
    "            raise ValueError('Classification Report is not ready!')\n",
    "            \n",
    "        return self.creport['f1-score']\n",
    "\n",
    "    def get_mp_score(self):\n",
    "        #maximize this\n",
    "        return sum([sum(mp_score) for mp_score in self.curr_mp_dict.values()]) / len(self.curr_mp_dict.keys())\n",
    "\n",
    "    def calculate_cost(self):\n",
    "        if self.mp_method.lower() == 'mpx':\n",
    "            self.calculate_mp_seperately_mpx()\n",
    "        else:\n",
    "            self.calculate_mp_multivariate_stumpy()\n",
    "        \n",
    "        self.calculate_discords()\n",
    "        self.majority_vote_discords()\n",
    "        self.obtain_y_vals()\n",
    "        self.calculate_classification_report()\n",
    "        if self.measurement == 'acc':\n",
    "            return self.get_f1_score()\n",
    "        else:\n",
    "            return self.get_mp_score()\n",
    "                "
   ]
  },
  {
   "cell_type": "code",
   "execution_count": 306,
   "metadata": {},
   "outputs": [],
   "source": [
    "class GeneticAlgo:\n",
    "    def __init__(self, df:pd.DataFrame, max_features:int, population_bag_size:int = 3):\n",
    "        print('Genetic Algorithm Process is ready to start')\n",
    "        self.df = df.copy()\n",
    "        self.y = df[[\"Label\"]]\n",
    "        self.X = df.drop([\"Label\"], axis = 1)\n",
    "        self.feature_map = {i : feat_name for i, feat_name in enumerate(X.columns)}\n",
    "        self.X.columns = list(range(0, len(X.columns)))\n",
    "        self.feature_number = max_features\n",
    "        self.pop_bag_size = population_bag_size\n",
    "        self.creport = None\n",
    "        \n",
    "\n",
    "    def initialize_population(self):\n",
    "        self.population_bag = []\n",
    "        for _ in range(self.pop_bag_size):\n",
    "            #0 veya 1 atiyoruz feature pick or not pick, 1 olanlari appendliyoruz.\n",
    "            genes = [random.randrange(0,2) for _ in range(self.feature_number)]\n",
    "            gene_indexes = [idx for idx, f in enumerate(genes) if f == 1]\n",
    "            if (len(gene_indexes) == 0):\n",
    "                gene_indexes.append(random.randint(1,self.feature_number))\n",
    "\n",
    "            self.population_bag.append(X.iloc[:, gene_indexes])\n",
    "\n",
    "        return self.population_bag\n",
    "\n",
    "    def fitness_function(self, individual:pd.DataFrame):\n",
    "        mp_manager = MatrixProfileManager(individual.copy(), window_size=60, discord_number=476, method='mpx', measure='mp')\n",
    "        cost = mp_manager.calculate_cost()\n",
    "        print(f'processing solution: {individual.columns.to_list()}')\n",
    "        print(f\"f1-score is: {mp_manager.get_f1_score()}\")\n",
    "        return cost\n",
    "\n",
    "    def eval_fit_population(self, pop_bag):\n",
    "        #This evaluation is based on minimizing the cost!\n",
    "        result = {}\n",
    "        fit_vals_lst = []\n",
    "        solutions = []\n",
    "        for individual in pop_bag:\n",
    "            if (type(individual) != pd.DataFrame):\n",
    "                assert(True)\n",
    "\n",
    "            fit_vals_lst.append(self.fitness_function(individual))\n",
    "            solutions.append(individual.columns.to_list())\n",
    "            \n",
    "        result[\"fit_vals\"] = fit_vals_lst\n",
    "        min_wgh = [abs(np.min(list(result['fit_vals'])) - i) for i in list(result['fit_vals'])]\n",
    "        result[\"fit_wgh\"]  = [i/sum(min_wgh) for i in min_wgh]\n",
    "        result[\"solution\"] = np.array(solutions, dtype=list)\n",
    "        return result\n",
    "\n",
    "    def find_best(self, eval_result:dict)->dict:\n",
    "        # Best individual so far\n",
    "        best_fit = np.max(eval_result[\"fit_vals\"])\n",
    "        best_fit_index = eval_result[\"fit_vals\"].index(best_fit)\n",
    "        best_solution  = eval_result[\"solution\"][best_fit_index]\n",
    "        print(f'best fit: {best_fit}\\nsolution:{best_solution}')\n",
    "        return {'best_fit': best_fit, 'index' : best_fit_index, 'solution': best_solution}"
   ]
  },
  {
   "cell_type": "code",
   "execution_count": 307,
   "metadata": {},
   "outputs": [
    {
     "name": "stdout",
     "output_type": "stream",
     "text": [
      "Genetic Algorithm Process is ready to start\n"
     ]
    }
   ],
   "source": [
    "genetic_algo = GeneticAlgo(df.copy(), max_features=4, population_bag_size=5)\n",
    "initial_population = genetic_algo.initialize_population()"
   ]
  },
  {
   "cell_type": "code",
   "execution_count": 308,
   "metadata": {},
   "outputs": [
    {
     "name": "stdout",
     "output_type": "stream",
     "text": [
      "processing solution: [1, 3]\n",
      "f1-score is: 0.8865546218487395\n",
      "processing solution: [1]\n",
      "f1-score is: 0.8865546218487395\n",
      "processing solution: [0, 1, 2, 3]\n",
      "f1-score is: 0.9915966386554622\n",
      "processing solution: [0, 2]\n",
      "f1-score is: 0.9117647058823528\n",
      "processing solution: [1]\n",
      "f1-score is: 0.8865546218487395\n",
      "best fit: 0.26454249236428157\n",
      "solution:[1, 3]\n"
     ]
    },
    {
     "data": {
      "text/plain": [
       "{'best_fit': 0.26454249236428157, 'index': 0, 'solution': [1, 3]}"
      ]
     },
     "execution_count": 308,
     "metadata": {},
     "output_type": "execute_result"
    }
   ],
   "source": [
    "res = genetic_algo.eval_fit_population(initial_population)\n",
    "genetic_algo.find_best(res)"
   ]
  },
  {
   "cell_type": "code",
   "execution_count": 284,
   "metadata": {},
   "outputs": [],
   "source": [
    "g = 0\n",
    "if g == 0:\n",
    "    best_fit_global      = best_fit\n",
    "    best_solution_global = best_solution\n",
    "else:\n",
    "    if best_fit <= best_fit_global:\n",
    "        best_fit_global      = best_fit\n",
    "        best_solution_global = best_solution"
   ]
  },
  {
   "cell_type": "code",
   "execution_count": 286,
   "metadata": {},
   "outputs": [
    {
     "data": {
      "text/plain": [
       "[3]"
      ]
     },
     "execution_count": 286,
     "metadata": {},
     "output_type": "execute_result"
    }
   ],
   "source": [
    "best_solution_global"
   ]
  },
  {
   "cell_type": "code",
   "execution_count": null,
   "metadata": {},
   "outputs": [],
   "source": [
    "result = {}\n",
    "fit_vals_lst = []\n",
    "solutions = []\n",
    "for solution in self.population_bag:\n",
    "    fit_vals_lst.append(self.fitness_function(solution))\n",
    "    solutions.append(solution)\n",
    "result[\"fit_vals\"] = fit_vals_lst\n",
    "min_wgh = [np.max(list(result[\"fit_vals\"]))-i for i in list(result[\"fit_vals\"])]\n",
    "    result[\"fit_wgh\"]  = [i/sum(min_wgh) for i in min_wgh]\n",
    "    result[\"solution\"] = np.array(solutions)"
   ]
  }
 ],
 "metadata": {
  "kernelspec": {
   "display_name": "base",
   "language": "python",
   "name": "python3"
  },
  "language_info": {
   "codemirror_mode": {
    "name": "ipython",
    "version": 3
   },
   "file_extension": ".py",
   "mimetype": "text/x-python",
   "name": "python",
   "nbconvert_exporter": "python",
   "pygments_lexer": "ipython3",
   "version": "3.8.8"
  },
  "orig_nbformat": 4,
  "vscode": {
   "interpreter": {
    "hash": "b90529615fcaa921901e46b456569a0723afb87e1dd1e96f04931eaf6c535369"
   }
  }
 },
 "nbformat": 4,
 "nbformat_minor": 2
}
